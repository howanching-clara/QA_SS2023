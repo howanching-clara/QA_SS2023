{
  "cells": [
    {
      "cell_type": "markdown",
      "source": [
        "# **Imports**"
      ],
      "metadata": {
        "id": "v6T7IMTKMl2K"
      }
    },
    {
      "cell_type": "markdown",
      "source": [
        "## Installs"
      ],
      "metadata": {
        "id": "FiVyJ8gXMtWM"
      }
    },
    {
      "cell_type": "code",
      "execution_count": 1,
      "metadata": {
        "colab": {
          "base_uri": "https://localhost:8080/"
        },
        "id": "4NBbB3vPB7GN",
        "outputId": "73587b28-668a-46f4-cc61-d01594d97dbc"
      },
      "outputs": [
        {
          "output_type": "stream",
          "name": "stdout",
          "text": [
            "Collecting datasets\n",
            "  Downloading datasets-2.14.0-py3-none-any.whl (492 kB)\n",
            "\u001b[2K     \u001b[90m━━━━━━━━━━━━━━━━━━━━━━━━━━━━━━━━━━━━━━━\u001b[0m \u001b[32m492.2/492.2 kB\u001b[0m \u001b[31m4.6 MB/s\u001b[0m eta \u001b[36m0:00:00\u001b[0m\n",
            "\u001b[?25hRequirement already satisfied: numpy>=1.17 in /usr/local/lib/python3.10/dist-packages (from datasets) (1.22.4)\n",
            "Requirement already satisfied: pyarrow>=8.0.0 in /usr/local/lib/python3.10/dist-packages (from datasets) (9.0.0)\n",
            "Collecting dill<0.3.8,>=0.3.0 (from datasets)\n",
            "  Downloading dill-0.3.7-py3-none-any.whl (115 kB)\n",
            "\u001b[2K     \u001b[90m━━━━━━━━━━━━━━━━━━━━━━━━━━━━━━━━━━━━━━━\u001b[0m \u001b[32m115.3/115.3 kB\u001b[0m \u001b[31m8.7 MB/s\u001b[0m eta \u001b[36m0:00:00\u001b[0m\n",
            "\u001b[?25hRequirement already satisfied: pandas in /usr/local/lib/python3.10/dist-packages (from datasets) (1.5.3)\n",
            "Requirement already satisfied: requests>=2.19.0 in /usr/local/lib/python3.10/dist-packages (from datasets) (2.27.1)\n",
            "Requirement already satisfied: tqdm>=4.62.1 in /usr/local/lib/python3.10/dist-packages (from datasets) (4.65.0)\n",
            "Collecting xxhash (from datasets)\n",
            "  Downloading xxhash-3.2.0-cp310-cp310-manylinux_2_17_x86_64.manylinux2014_x86_64.whl (212 kB)\n",
            "\u001b[2K     \u001b[90m━━━━━━━━━━━━━━━━━━━━━━━━━━━━━━━━━━━━━━━\u001b[0m \u001b[32m212.5/212.5 kB\u001b[0m \u001b[31m6.7 MB/s\u001b[0m eta \u001b[36m0:00:00\u001b[0m\n",
            "\u001b[?25hCollecting multiprocess (from datasets)\n",
            "  Downloading multiprocess-0.70.15-py310-none-any.whl (134 kB)\n",
            "\u001b[2K     \u001b[90m━━━━━━━━━━━━━━━━━━━━━━━━━━━━━━━━━━━━━━━\u001b[0m \u001b[32m134.8/134.8 kB\u001b[0m \u001b[31m5.2 MB/s\u001b[0m eta \u001b[36m0:00:00\u001b[0m\n",
            "\u001b[?25hRequirement already satisfied: fsspec[http]>=2021.11.1 in /usr/local/lib/python3.10/dist-packages (from datasets) (2023.6.0)\n",
            "Requirement already satisfied: aiohttp in /usr/local/lib/python3.10/dist-packages (from datasets) (3.8.4)\n",
            "Collecting huggingface-hub<1.0.0,>=0.14.0 (from datasets)\n",
            "  Downloading huggingface_hub-0.16.4-py3-none-any.whl (268 kB)\n",
            "\u001b[2K     \u001b[90m━━━━━━━━━━━━━━━━━━━━━━━━━━━━━━━━━━━━━━━\u001b[0m \u001b[32m268.8/268.8 kB\u001b[0m \u001b[31m8.6 MB/s\u001b[0m eta \u001b[36m0:00:00\u001b[0m\n",
            "\u001b[?25hRequirement already satisfied: packaging in /usr/local/lib/python3.10/dist-packages (from datasets) (23.1)\n",
            "Requirement already satisfied: pyyaml>=5.1 in /usr/local/lib/python3.10/dist-packages (from datasets) (6.0.1)\n",
            "Requirement already satisfied: attrs>=17.3.0 in /usr/local/lib/python3.10/dist-packages (from aiohttp->datasets) (23.1.0)\n",
            "Requirement already satisfied: charset-normalizer<4.0,>=2.0 in /usr/local/lib/python3.10/dist-packages (from aiohttp->datasets) (2.0.12)\n",
            "Requirement already satisfied: multidict<7.0,>=4.5 in /usr/local/lib/python3.10/dist-packages (from aiohttp->datasets) (6.0.4)\n",
            "Requirement already satisfied: async-timeout<5.0,>=4.0.0a3 in /usr/local/lib/python3.10/dist-packages (from aiohttp->datasets) (4.0.2)\n",
            "Requirement already satisfied: yarl<2.0,>=1.0 in /usr/local/lib/python3.10/dist-packages (from aiohttp->datasets) (1.9.2)\n",
            "Requirement already satisfied: frozenlist>=1.1.1 in /usr/local/lib/python3.10/dist-packages (from aiohttp->datasets) (1.4.0)\n",
            "Requirement already satisfied: aiosignal>=1.1.2 in /usr/local/lib/python3.10/dist-packages (from aiohttp->datasets) (1.3.1)\n",
            "Requirement already satisfied: filelock in /usr/local/lib/python3.10/dist-packages (from huggingface-hub<1.0.0,>=0.14.0->datasets) (3.12.2)\n",
            "Requirement already satisfied: typing-extensions>=3.7.4.3 in /usr/local/lib/python3.10/dist-packages (from huggingface-hub<1.0.0,>=0.14.0->datasets) (4.7.1)\n",
            "Requirement already satisfied: urllib3<1.27,>=1.21.1 in /usr/local/lib/python3.10/dist-packages (from requests>=2.19.0->datasets) (1.26.16)\n",
            "Requirement already satisfied: certifi>=2017.4.17 in /usr/local/lib/python3.10/dist-packages (from requests>=2.19.0->datasets) (2023.5.7)\n",
            "Requirement already satisfied: idna<4,>=2.5 in /usr/local/lib/python3.10/dist-packages (from requests>=2.19.0->datasets) (3.4)\n",
            "Requirement already satisfied: python-dateutil>=2.8.1 in /usr/local/lib/python3.10/dist-packages (from pandas->datasets) (2.8.2)\n",
            "Requirement already satisfied: pytz>=2020.1 in /usr/local/lib/python3.10/dist-packages (from pandas->datasets) (2022.7.1)\n",
            "Requirement already satisfied: six>=1.5 in /usr/local/lib/python3.10/dist-packages (from python-dateutil>=2.8.1->pandas->datasets) (1.16.0)\n",
            "Installing collected packages: xxhash, dill, multiprocess, huggingface-hub, datasets\n",
            "Successfully installed datasets-2.14.0 dill-0.3.7 huggingface-hub-0.16.4 multiprocess-0.70.15 xxhash-3.2.0\n"
          ]
        }
      ],
      "source": [
        "pip install datasets"
      ]
    },
    {
      "cell_type": "code",
      "execution_count": 2,
      "metadata": {
        "colab": {
          "base_uri": "https://localhost:8080/"
        },
        "id": "znIx3UWMB_CH",
        "outputId": "6fb32e05-8512-4ae4-8f37-8f9564193972"
      },
      "outputs": [
        {
          "output_type": "stream",
          "name": "stdout",
          "text": [
            "Collecting apache_beam\n",
            "  Downloading apache_beam-2.49.0-cp310-cp310-manylinux_2_17_x86_64.manylinux2014_x86_64.whl (14.6 MB)\n",
            "\u001b[2K     \u001b[90m━━━━━━━━━━━━━━━━━━━━━━━━━━━━━━━━━━━━━━━━\u001b[0m \u001b[32m14.6/14.6 MB\u001b[0m \u001b[31m32.7 MB/s\u001b[0m eta \u001b[36m0:00:00\u001b[0m\n",
            "\u001b[?25hCollecting crcmod<2.0,>=1.7 (from apache_beam)\n",
            "  Downloading crcmod-1.7.tar.gz (89 kB)\n",
            "\u001b[2K     \u001b[90m━━━━━━━━━━━━━━━━━━━━━━━━━━━━━━━━━━━━━━━━\u001b[0m \u001b[32m89.7/89.7 kB\u001b[0m \u001b[31m9.5 MB/s\u001b[0m eta \u001b[36m0:00:00\u001b[0m\n",
            "\u001b[?25h  Preparing metadata (setup.py) ... \u001b[?25l\u001b[?25hdone\n",
            "Collecting orjson<4.0 (from apache_beam)\n",
            "  Downloading orjson-3.9.2-cp310-cp310-manylinux_2_17_x86_64.manylinux2014_x86_64.whl (138 kB)\n",
            "\u001b[2K     \u001b[90m━━━━━━━━━━━━━━━━━━━━━━━━━━━━━━━━━━━━━━━\u001b[0m \u001b[32m138.7/138.7 kB\u001b[0m \u001b[31m7.8 MB/s\u001b[0m eta \u001b[36m0:00:00\u001b[0m\n",
            "\u001b[?25hCollecting dill<0.3.2,>=0.3.1.1 (from apache_beam)\n",
            "  Downloading dill-0.3.1.1.tar.gz (151 kB)\n",
            "\u001b[2K     \u001b[90m━━━━━━━━━━━━━━━━━━━━━━━━━━━━━━━━━━━━━━\u001b[0m \u001b[32m152.0/152.0 kB\u001b[0m \u001b[31m16.0 MB/s\u001b[0m eta \u001b[36m0:00:00\u001b[0m\n",
            "\u001b[?25h  Preparing metadata (setup.py) ... \u001b[?25l\u001b[?25hdone\n",
            "Requirement already satisfied: cloudpickle~=2.2.1 in /usr/local/lib/python3.10/dist-packages (from apache_beam) (2.2.1)\n",
            "Collecting fastavro<2,>=0.23.6 (from apache_beam)\n",
            "  Downloading fastavro-1.8.2-cp310-cp310-manylinux_2_17_x86_64.manylinux2014_x86_64.whl (2.7 MB)\n",
            "\u001b[2K     \u001b[90m━━━━━━━━━━━━━━━━━━━━━━━━━━━━━━━━━━━━━━━━\u001b[0m \u001b[32m2.7/2.7 MB\u001b[0m \u001b[31m35.7 MB/s\u001b[0m eta \u001b[36m0:00:00\u001b[0m\n",
            "\u001b[?25hCollecting fasteners<1.0,>=0.3 (from apache_beam)\n",
            "  Downloading fasteners-0.18-py3-none-any.whl (18 kB)\n",
            "Requirement already satisfied: grpcio!=1.48.0,<2,>=1.33.1 in /usr/local/lib/python3.10/dist-packages (from apache_beam) (1.56.0)\n",
            "Collecting hdfs<3.0.0,>=2.1.0 (from apache_beam)\n",
            "  Downloading hdfs-2.7.0-py3-none-any.whl (34 kB)\n",
            "Requirement already satisfied: httplib2<0.23.0,>=0.8 in /usr/local/lib/python3.10/dist-packages (from apache_beam) (0.21.0)\n",
            "Requirement already satisfied: numpy<1.25.0,>=1.14.3 in /usr/local/lib/python3.10/dist-packages (from apache_beam) (1.22.4)\n",
            "Collecting objsize<0.7.0,>=0.6.1 (from apache_beam)\n",
            "  Downloading objsize-0.6.1-py3-none-any.whl (9.3 kB)\n",
            "Collecting pymongo<5.0.0,>=3.8.0 (from apache_beam)\n",
            "  Downloading pymongo-4.4.1-cp310-cp310-manylinux_2_17_x86_64.manylinux2014_x86_64.whl (603 kB)\n",
            "\u001b[2K     \u001b[90m━━━━━━━━━━━━━━━━━━━━━━━━━━━━━━━━━━━━━━\u001b[0m \u001b[32m603.6/603.6 kB\u001b[0m \u001b[31m20.8 MB/s\u001b[0m eta \u001b[36m0:00:00\u001b[0m\n",
            "\u001b[?25hRequirement already satisfied: proto-plus<2,>=1.7.1 in /usr/local/lib/python3.10/dist-packages (from apache_beam) (1.22.3)\n",
            "Requirement already satisfied: protobuf<4.24.0,>=3.20.3 in /usr/local/lib/python3.10/dist-packages (from apache_beam) (3.20.3)\n",
            "Requirement already satisfied: pydot<2,>=1.2.0 in /usr/local/lib/python3.10/dist-packages (from apache_beam) (1.4.2)\n",
            "Requirement already satisfied: python-dateutil<3,>=2.8.0 in /usr/local/lib/python3.10/dist-packages (from apache_beam) (2.8.2)\n",
            "Requirement already satisfied: pytz>=2018.3 in /usr/local/lib/python3.10/dist-packages (from apache_beam) (2022.7.1)\n",
            "Requirement already satisfied: regex>=2020.6.8 in /usr/local/lib/python3.10/dist-packages (from apache_beam) (2022.10.31)\n",
            "Requirement already satisfied: requests<3.0.0,>=2.24.0 in /usr/local/lib/python3.10/dist-packages (from apache_beam) (2.27.1)\n",
            "Requirement already satisfied: typing-extensions>=3.7.0 in /usr/local/lib/python3.10/dist-packages (from apache_beam) (4.7.1)\n",
            "Collecting zstandard<1,>=0.18.0 (from apache_beam)\n",
            "  Downloading zstandard-0.21.0-cp310-cp310-manylinux_2_17_x86_64.manylinux2014_x86_64.whl (2.7 MB)\n",
            "\u001b[2K     \u001b[90m━━━━━━━━━━━━━━━━━━━━━━━━━━━━━━━━━━━━━━━━\u001b[0m \u001b[32m2.7/2.7 MB\u001b[0m \u001b[31m26.6 MB/s\u001b[0m eta \u001b[36m0:00:00\u001b[0m\n",
            "\u001b[?25hRequirement already satisfied: pyarrow<12.0.0,>=3.0.0 in /usr/local/lib/python3.10/dist-packages (from apache_beam) (9.0.0)\n",
            "Collecting docopt (from hdfs<3.0.0,>=2.1.0->apache_beam)\n",
            "  Downloading docopt-0.6.2.tar.gz (25 kB)\n",
            "  Preparing metadata (setup.py) ... \u001b[?25l\u001b[?25hdone\n",
            "Requirement already satisfied: six>=1.9.0 in /usr/local/lib/python3.10/dist-packages (from hdfs<3.0.0,>=2.1.0->apache_beam) (1.16.0)\n",
            "Requirement already satisfied: pyparsing!=3.0.0,!=3.0.1,!=3.0.2,!=3.0.3,<4,>=2.4.2 in /usr/local/lib/python3.10/dist-packages (from httplib2<0.23.0,>=0.8->apache_beam) (3.1.0)\n",
            "Collecting dnspython<3.0.0,>=1.16.0 (from pymongo<5.0.0,>=3.8.0->apache_beam)\n",
            "  Downloading dnspython-2.4.0-py3-none-any.whl (300 kB)\n",
            "\u001b[2K     \u001b[90m━━━━━━━━━━━━━━━━━━━━━━━━━━━━━━━━━━━━━━\u001b[0m \u001b[32m300.0/300.0 kB\u001b[0m \u001b[31m16.7 MB/s\u001b[0m eta \u001b[36m0:00:00\u001b[0m\n",
            "\u001b[?25hRequirement already satisfied: urllib3<1.27,>=1.21.1 in /usr/local/lib/python3.10/dist-packages (from requests<3.0.0,>=2.24.0->apache_beam) (1.26.16)\n",
            "Requirement already satisfied: certifi>=2017.4.17 in /usr/local/lib/python3.10/dist-packages (from requests<3.0.0,>=2.24.0->apache_beam) (2023.5.7)\n",
            "Requirement already satisfied: charset-normalizer~=2.0.0 in /usr/local/lib/python3.10/dist-packages (from requests<3.0.0,>=2.24.0->apache_beam) (2.0.12)\n",
            "Requirement already satisfied: idna<4,>=2.5 in /usr/local/lib/python3.10/dist-packages (from requests<3.0.0,>=2.24.0->apache_beam) (3.4)\n",
            "Collecting httpcore>=0.17.3 (from dnspython<3.0.0,>=1.16.0->pymongo<5.0.0,>=3.8.0->apache_beam)\n",
            "  Downloading httpcore-0.17.3-py3-none-any.whl (74 kB)\n",
            "\u001b[2K     \u001b[90m━━━━━━━━━━━━━━━━━━━━━━━━━━━━━━━━━━━━━━━━\u001b[0m \u001b[32m74.5/74.5 kB\u001b[0m \u001b[31m7.5 MB/s\u001b[0m eta \u001b[36m0:00:00\u001b[0m\n",
            "\u001b[?25hRequirement already satisfied: sniffio<2.0,>=1.1 in /usr/local/lib/python3.10/dist-packages (from dnspython<3.0.0,>=1.16.0->pymongo<5.0.0,>=3.8.0->apache_beam) (1.3.0)\n",
            "Collecting h11<0.15,>=0.13 (from httpcore>=0.17.3->dnspython<3.0.0,>=1.16.0->pymongo<5.0.0,>=3.8.0->apache_beam)\n",
            "  Downloading h11-0.14.0-py3-none-any.whl (58 kB)\n",
            "\u001b[2K     \u001b[90m━━━━━━━━━━━━━━━━━━━━━━━━━━━━━━━━━━━━━━━━\u001b[0m \u001b[32m58.3/58.3 kB\u001b[0m \u001b[31m5.7 MB/s\u001b[0m eta \u001b[36m0:00:00\u001b[0m\n",
            "\u001b[?25hRequirement already satisfied: anyio<5.0,>=3.0 in /usr/local/lib/python3.10/dist-packages (from httpcore>=0.17.3->dnspython<3.0.0,>=1.16.0->pymongo<5.0.0,>=3.8.0->apache_beam) (3.7.1)\n",
            "Requirement already satisfied: exceptiongroup in /usr/local/lib/python3.10/dist-packages (from anyio<5.0,>=3.0->httpcore>=0.17.3->dnspython<3.0.0,>=1.16.0->pymongo<5.0.0,>=3.8.0->apache_beam) (1.1.2)\n",
            "Building wheels for collected packages: crcmod, dill, docopt\n",
            "  Building wheel for crcmod (setup.py) ... \u001b[?25l\u001b[?25hdone\n",
            "  Created wheel for crcmod: filename=crcmod-1.7-cp310-cp310-linux_x86_64.whl size=31408 sha256=b7cc0091a7ef3ecddae0456b0e688bed4ba1ee392a9864c33ebb30ea88d764bf\n",
            "  Stored in directory: /root/.cache/pip/wheels/85/4c/07/72215c529bd59d67e3dac29711d7aba1b692f543c808ba9e86\n",
            "  Building wheel for dill (setup.py) ... \u001b[?25l\u001b[?25hdone\n",
            "  Created wheel for dill: filename=dill-0.3.1.1-py3-none-any.whl size=78545 sha256=e1f29e9407cff345c7c539043163287a50cd3cc2ce0693fdb9941ff38222ebab\n",
            "  Stored in directory: /root/.cache/pip/wheels/ea/e2/86/64980d90e297e7bf2ce588c2b96e818f5399c515c4bb8a7e4f\n",
            "  Building wheel for docopt (setup.py) ... \u001b[?25l\u001b[?25hdone\n",
            "  Created wheel for docopt: filename=docopt-0.6.2-py2.py3-none-any.whl size=13707 sha256=034232893e4dd5fc7eb0722e0af0ac07dcd9935daedf94efb4054c248f35e94d\n",
            "  Stored in directory: /root/.cache/pip/wheels/fc/ab/d4/5da2067ac95b36618c629a5f93f809425700506f72c9732fac\n",
            "Successfully built crcmod dill docopt\n",
            "Installing collected packages: docopt, crcmod, zstandard, orjson, objsize, h11, fasteners, fastavro, dill, httpcore, hdfs, dnspython, pymongo, apache_beam\n",
            "  Attempting uninstall: dill\n",
            "    Found existing installation: dill 0.3.7\n",
            "    Uninstalling dill-0.3.7:\n",
            "      Successfully uninstalled dill-0.3.7\n",
            "\u001b[31mERROR: pip's dependency resolver does not currently take into account all the packages that are installed. This behaviour is the source of the following dependency conflicts.\n",
            "multiprocess 0.70.15 requires dill>=0.3.7, but you have dill 0.3.1.1 which is incompatible.\u001b[0m\u001b[31m\n",
            "\u001b[0mSuccessfully installed apache_beam-2.49.0 crcmod-1.7 dill-0.3.1.1 dnspython-2.4.0 docopt-0.6.2 fastavro-1.8.2 fasteners-0.18 h11-0.14.0 hdfs-2.7.0 httpcore-0.17.3 objsize-0.6.1 orjson-3.9.2 pymongo-4.4.1 zstandard-0.21.0\n"
          ]
        }
      ],
      "source": [
        "pip install apache_beam"
      ]
    },
    {
      "cell_type": "code",
      "source": [
        "pip install -q -U \"tensorflow-text==2.11.*\""
      ],
      "metadata": {
        "id": "dtXDXN5BNJdd"
      },
      "execution_count": null,
      "outputs": []
    },
    {
      "cell_type": "code",
      "source": [
        "pip install -q tf-models-official==2.11.0"
      ],
      "metadata": {
        "id": "xScBjVCoNLrX"
      },
      "execution_count": null,
      "outputs": []
    },
    {
      "cell_type": "code",
      "source": [
        "pip install torch"
      ],
      "metadata": {
        "id": "tXPLF0u6NOdM"
      },
      "execution_count": null,
      "outputs": []
    },
    {
      "cell_type": "code",
      "source": [
        "pip install -U scikit-learn"
      ],
      "metadata": {
        "id": "b8Ke74WbNRCF"
      },
      "execution_count": null,
      "outputs": []
    },
    {
      "cell_type": "code",
      "source": [
        "pip install -U transformers"
      ],
      "metadata": {
        "id": "n5qEWn18NWRR"
      },
      "execution_count": null,
      "outputs": []
    },
    {
      "cell_type": "code",
      "execution_count": null,
      "metadata": {
        "id": "U6l8devJEiuE"
      },
      "outputs": [],
      "source": [
        "#!pip install huggingface\n",
        "#!pip install datasets\n",
        "#!pip install apache_beam"
      ]
    },
    {
      "cell_type": "markdown",
      "source": [
        "## Imports"
      ],
      "metadata": {
        "id": "fGuOSjqcMwW1"
      }
    },
    {
      "cell_type": "code",
      "source": [
        "import json"
      ],
      "metadata": {
        "id": "s6VbaMh3Mxpw"
      },
      "execution_count": null,
      "outputs": []
    },
    {
      "cell_type": "code",
      "source": [
        "import nltk\n",
        "from nltk.tokenize import sent_tokenize"
      ],
      "metadata": {
        "id": "h3hdY2JYM5of"
      },
      "execution_count": null,
      "outputs": []
    },
    {
      "cell_type": "code",
      "source": [
        "from datasets import load_dataset"
      ],
      "metadata": {
        "id": "fhJ1ldLyMzRf"
      },
      "execution_count": null,
      "outputs": []
    },
    {
      "cell_type": "code",
      "source": [
        "import random\n",
        "import pandas as pd\n",
        "import numpy as np\n",
        "from tabulate import tabulate\n",
        "import sklearn\n",
        "from sklearn.model_selection import train_test_split"
      ],
      "metadata": {
        "id": "DWzLVSqdNHES"
      },
      "execution_count": null,
      "outputs": []
    },
    {
      "cell_type": "code",
      "source": [
        "import torch\n",
        "from torch.utils.data import Dataset\n",
        "from torchvision import datasets\n",
        "from torch.utils.data import DataLoader, TensorDataset, RandomSampler, SequentialSampler\n",
        "from torchvision.transforms import ToTensor\n",
        "import matplotlib.pyplot as plt"
      ],
      "metadata": {
        "id": "8xPoLwH8NfGj"
      },
      "execution_count": null,
      "outputs": []
    },
    {
      "cell_type": "code",
      "source": [
        "import transformers\n",
        "from transformers import BertTokenizer, BertModel"
      ],
      "metadata": {
        "id": "7wHbpuvhNmsJ"
      },
      "execution_count": null,
      "outputs": []
    },
    {
      "cell_type": "code",
      "source": [
        "import tqdm"
      ],
      "metadata": {
        "id": "kv4K4Go2NnDz"
      },
      "execution_count": null,
      "outputs": []
    },
    {
      "cell_type": "markdown",
      "source": [
        "## Downloads"
      ],
      "metadata": {
        "id": "snGCmPUAM8Uv"
      }
    },
    {
      "cell_type": "code",
      "source": [
        "nltk.download('punkt')"
      ],
      "metadata": {
        "id": "LppzxKU7M9iF"
      },
      "execution_count": null,
      "outputs": []
    },
    {
      "cell_type": "markdown",
      "metadata": {
        "id": "vFIiqoTuyt2b"
      },
      "source": [
        "# **Obtain dataset**"
      ]
    },
    {
      "cell_type": "code",
      "execution_count": 4,
      "metadata": {
        "colab": {
          "base_uri": "https://localhost:8080/",
          "height": 177,
          "referenced_widgets": [
            "7b80d76083e84a5cb689b613dd57a3ee",
            "7c3d67c727f44c638aaaefcd6c9d6922",
            "0b6b5804352847a195a45b55752e4b04",
            "cf50ff7493974046aa8e41e4ca242c2e",
            "734fe199dfe64a88a8d80a5164e2af71",
            "724e0ab5d1c445938951468f3613b4b0",
            "95213f507d6d48c7ae73744d3aea7979",
            "41bcd49543324260add016a7711a4617",
            "550d557db42d4800acc56a1aac2e525b",
            "7687fdd4dc904af1b8a6c5757ee0da67",
            "386183bed8814c049423a5a0fe1881f5",
            "839a19bd30c14a8fa3c292aa93ba3bd1",
            "cdc43ce4545641edae369d763d28fa03",
            "0971e23dca094c61a1df929764bf6740",
            "bdb48d94c7b440cfad274c4dbb74740a",
            "176437751bae4f93ad23225c76dc4cec",
            "0b1deda8540340f2bee316e82de280ce",
            "9fbf723629f144aca5ba368d0a4ddd70",
            "85eab56bc7df4c7185297cad313e9374",
            "a47e9de7101b4ef8b857ca938fab9e36",
            "52a96b8e5b5d4d3c8a805fa16a28d677",
            "28791eb8d3ff49c5b1956da9c2615349",
            "942fc5e1e1c84597806b85e017d9f1c7",
            "92ff8db1b97441ab800b5c6bd1f313d2",
            "7e918c501b8d48609df8206c35889fe2",
            "ef6822c4a8694df2a8b8986dd5d688c7",
            "7dfd7530d1154bc1bb20471c8a32999b",
            "445418047f1f49cc9c592bf81de54d06",
            "2b1f218f938c4b3e9489de30531b3619",
            "a6d4f614b6134666bc09e8bf6c6d7a03",
            "15bfb41d5e084a4090921b8e6df0e54e",
            "c12648f5d9d242a187a1bf706350a2a3",
            "a99d4f2bb88b482dae2c8b87a44ff0e6",
            "0dd7bb25adc7442a9409eeac0cce5ea0",
            "8e770deb24a34fc0b9eddfc827d0cabd",
            "dcb6221027ce44908d55fe015622b5da",
            "1bd836ec26c545ff8a6a8cb0d039cc8d",
            "3ea1e330e98f4441b60806f665c9b369",
            "2d2836918a34428cb410fca1e0f441b1",
            "bdb46ef3ad604e51a210c5313cd74172",
            "a9af0dce12374b37afb5ab6f898eb2cd",
            "4c433205720041ebb23f379435814702",
            "1b4e36fe71e143559fca003b39e47b82",
            "47dd40f2cf40433880ce93fbb5e5edb8",
            "7479e600da314148a3802fb318a08e6e",
            "40a3c2f68cc642b68c3e866e29564cba",
            "97914771e7b840759b8e862252b59239",
            "6f6492be91714ae5a8bc26e3a4dcbebf",
            "d6ebeb7710264980888c84b46f1d0be1",
            "573e8cfba1994ec580320dde72581e3c",
            "ead19b7baf1f4ca5bb36d43d7e1e875a",
            "2e0c78e3f82a4c59a5978fca882f4174",
            "d0220d93c08746cfb65473030597395b",
            "404dc96ec773482cacd3ebc00aaa57d3",
            "bcdb5f1ac4284d31ace43b909b621085"
          ]
        },
        "id": "U3g4oXNkPfr4",
        "outputId": "ef5c09d2-eb79-4aec-9d6c-a9ec90544510"
      },
      "outputs": [
        {
          "output_type": "display_data",
          "data": {
            "text/plain": [
              "Downloading builder script:   0%|          | 0.00/35.9k [00:00<?, ?B/s]"
            ],
            "application/vnd.jupyter.widget-view+json": {
              "version_major": 2,
              "version_minor": 0,
              "model_id": "7b80d76083e84a5cb689b613dd57a3ee"
            }
          },
          "metadata": {}
        },
        {
          "output_type": "display_data",
          "data": {
            "text/plain": [
              "Downloading metadata:   0%|          | 0.00/30.4k [00:00<?, ?B/s]"
            ],
            "application/vnd.jupyter.widget-view+json": {
              "version_major": 2,
              "version_minor": 0,
              "model_id": "839a19bd30c14a8fa3c292aa93ba3bd1"
            }
          },
          "metadata": {}
        },
        {
          "output_type": "display_data",
          "data": {
            "text/plain": [
              "Downloading readme:   0%|          | 0.00/16.3k [00:00<?, ?B/s]"
            ],
            "application/vnd.jupyter.widget-view+json": {
              "version_major": 2,
              "version_minor": 0,
              "model_id": "942fc5e1e1c84597806b85e017d9f1c7"
            }
          },
          "metadata": {}
        },
        {
          "output_type": "display_data",
          "data": {
            "text/plain": [
              "Downloading:   0%|          | 0.00/15.3k [00:00<?, ?B/s]"
            ],
            "application/vnd.jupyter.widget-view+json": {
              "version_major": 2,
              "version_minor": 0,
              "model_id": "0dd7bb25adc7442a9409eeac0cce5ea0"
            }
          },
          "metadata": {}
        },
        {
          "output_type": "display_data",
          "data": {
            "text/plain": [
              "Downloading:   0%|          | 0.00/20.3G [00:00<?, ?B/s]"
            ],
            "application/vnd.jupyter.widget-view+json": {
              "version_major": 2,
              "version_minor": 0,
              "model_id": "7479e600da314148a3802fb318a08e6e"
            }
          },
          "metadata": {}
        }
      ],
      "source": [
        "x=load_dataset(\"wikipedia\", \"20220301.en\", split=\"train\")\n",
        "#x[0]"
      ]
    },
    {
      "cell_type": "markdown",
      "metadata": {
        "id": "CDAs6_2ByiRO"
      },
      "source": [
        "# **Split Text in Paragraphs and Sentences:**"
      ]
    },
    {
      "cell_type": "markdown",
      "metadata": {
        "id": "ff4zqh8PTLp0"
      },
      "source": [
        "## Functions"
      ]
    },
    {
      "cell_type": "code",
      "execution_count": 7,
      "metadata": {
        "id": "YmgVoOiUB28e"
      },
      "outputs": [],
      "source": [
        "def text_to_para(in_text):\n",
        "  paras = in_text.split('\\n\\n')\n",
        "  return paras"
      ]
    },
    {
      "cell_type": "code",
      "execution_count": 8,
      "metadata": {
        "id": "RHiHd-GjCFPF"
      },
      "outputs": [],
      "source": [
        "def para_to_sent(para):\n",
        "  sent = sent_tokenize(para)\n",
        "  return sent"
      ]
    },
    {
      "cell_type": "code",
      "execution_count": 9,
      "metadata": {
        "id": "5clrVv3pDNPw"
      },
      "outputs": [],
      "source": [
        "def label_sents(list_of_sents_in_same_para):\n",
        "  labelled_sents = list()\n",
        "\n",
        "  for id, sent in enumerate(list_of_sents_in_same_para):\n",
        "\n",
        "    if id == 0:                                     # first sentence in paragraph\n",
        "      label = 1\n",
        "    elif id == len(list_of_sents_in_same_para)-1:   # last sentence in paragraph\n",
        "      label = 2\n",
        "    else:\n",
        "      label = 0\n",
        "\n",
        "    now_dict = {\"sentence\": sent,\n",
        "                \"label\": label}\n",
        "    labelled_sents.append(now_dict)\n",
        "\n",
        "  return labelled_sents"
      ]
    },
    {
      "cell_type": "markdown",
      "metadata": {
        "id": "72MvjZiYTNIb"
      },
      "source": [
        "## Runs"
      ]
    },
    {
      "cell_type": "code",
      "execution_count": 10,
      "metadata": {
        "id": "TJLXwjDIC_CO"
      },
      "outputs": [],
      "source": [
        "number_of_wiki_entries = 100000\n",
        "output_sent_list = list()\n",
        "\n",
        "for i in range(number_of_wiki_entries):\n",
        "  text = x[i]['text']\n",
        "  list_of_paragraphs = text.split('\\n\\n')\n",
        "\n",
        "  for para in list_of_paragraphs:\n",
        "    list_of_sents = para_to_sent(para)\n",
        "    labelled_sents = label_sents(list_of_sents)\n",
        "\n",
        "    output_sent_list += labelled_sents\n"
      ]
    },
    {
      "cell_type": "code",
      "execution_count": 11,
      "metadata": {
        "colab": {
          "base_uri": "https://localhost:8080/"
        },
        "id": "E4df_qfCGdmh",
        "outputId": "2061f394-994e-4325-f094-9f4c4066683d"
      },
      "outputs": [
        {
          "output_type": "stream",
          "name": "stdout",
          "text": [
            "9602579\n"
          ]
        },
        {
          "output_type": "execute_result",
          "data": {
            "text/plain": [
              "[{'sentence': 'Anarchism is a political philosophy and movement that is sceptical of authority and rejects all involuntary, coercive forms of hierarchy.',\n",
              "  'label': 1},\n",
              " {'sentence': 'Anarchism calls for the abolition of the state, which it holds to be unnecessary, undesirable, and harmful.',\n",
              "  'label': 0},\n",
              " {'sentence': 'As a historically left-wing movement, placed on the farthest left of the political spectrum, it is usually described alongside communalism and libertarian Marxism as the libertarian wing (libertarian socialism) of the socialist movement, and has a strong historical association with anti-capitalism and socialism.',\n",
              "  'label': 2},\n",
              " {'sentence': 'Humans lived in societies without formal hierarchies long before the establishment of formal states, realms, or empires.',\n",
              "  'label': 1},\n",
              " {'sentence': 'With the rise of organised hierarchical bodies, scepticism toward authority also rose.',\n",
              "  'label': 0}]"
            ]
          },
          "metadata": {},
          "execution_count": 11
        }
      ],
      "source": [
        "print(len(output_sent_list))\n",
        "output_sent_list[:5]"
      ]
    },
    {
      "cell_type": "code",
      "execution_count": 12,
      "metadata": {
        "colab": {
          "base_uri": "https://localhost:8080/",
          "height": 36
        },
        "id": "nKVKplVi5ZIf",
        "outputId": "71c74a55-cc00-4e49-ea76-789372aede8d"
      },
      "outputs": [
        {
          "output_type": "execute_result",
          "data": {
            "text/plain": [
              "\"\\ntext=x[0]['text']\\n\\n#Split text into paragraphs:\\nlist_of_paragraphs = text.split('\\n\\n')\\n\""
            ],
            "application/vnd.google.colaboratory.intrinsic+json": {
              "type": "string"
            }
          },
          "metadata": {},
          "execution_count": 12
        }
      ],
      "source": [
        "'''\n",
        "text=x[0]['text']\n",
        "\n",
        "#Split text into paragraphs:\n",
        "list_of_paragraphs = text.split('\\n\\n')\n",
        "'''"
      ]
    },
    {
      "cell_type": "code",
      "execution_count": 13,
      "metadata": {
        "colab": {
          "base_uri": "https://localhost:8080/",
          "height": 36
        },
        "id": "B3ozXg-Q5ghy",
        "outputId": "9c7d390d-7801-4933-ea15-d1bfb21a0082"
      },
      "outputs": [
        {
          "output_type": "execute_result",
          "data": {
            "text/plain": [
              "'\\ndict_of_paragraphs=dict()\\nfor i in range(len(paragraphs)):\\n  dict_of_paragraphs[i]=sent_tokenize(paragraphs[i])\\ndict_of_paragraphs\\n'"
            ],
            "application/vnd.google.colaboratory.intrinsic+json": {
              "type": "string"
            }
          },
          "metadata": {},
          "execution_count": 13
        }
      ],
      "source": [
        "'''\n",
        "dict_of_paragraphs=dict()\n",
        "for i in range(len(paragraphs)):\n",
        "  dict_of_paragraphs[i]=sent_tokenize(paragraphs[i])\n",
        "dict_of_paragraphs\n",
        "'''"
      ]
    },
    {
      "cell_type": "markdown",
      "metadata": {
        "id": "EQWGtyVMGzkv"
      },
      "source": [
        "# **Output as json**"
      ]
    },
    {
      "cell_type": "code",
      "execution_count": 15,
      "metadata": {
        "id": "CjXji4IGKMoI"
      },
      "outputs": [],
      "source": [
        "json_content = list()                   # list of max 300 items\n",
        "json_content_all = list()               # list of all item\n",
        "split_target_number = 299               # split at the 299th id, which is 300th item\n",
        "\n",
        "temp_list = list()\n",
        "for id, item in enumerate(output_sent_list):\n",
        "  temp_list.append(item)\n",
        "  json_content_all.append(item)\n",
        "\n",
        "  if id == split_target_number:         # for each 300th item\n",
        "    json_content.append(temp_list)\n",
        "    temp_list = list()                  # reset temp_list\n",
        "    split_target_number += 300\n",
        "  elif id == len(output_sent_list)-1:   # or at the end of list\n",
        "    json_content.append(temp_list)\n",
        "    temp_list = list()                  # reset temp_list\n",
        "    split_target_number += 300"
      ]
    },
    {
      "cell_type": "code",
      "execution_count": 16,
      "metadata": {
        "colab": {
          "base_uri": "https://localhost:8080/"
        },
        "id": "Jzg-DnoSLM4I",
        "outputId": "2d38a315-d12a-4612-8f47-3fe2ecfca127"
      },
      "outputs": [
        {
          "output_type": "stream",
          "name": "stdout",
          "text": [
            "32009\n"
          ]
        }
      ],
      "source": [
        "print(len(json_content))\n",
        "\n",
        "#for item in json_content:\n",
        "#  print(len(item))"
      ]
    },
    {
      "cell_type": "code",
      "execution_count": 17,
      "metadata": {
        "colab": {
          "base_uri": "https://localhost:8080/"
        },
        "id": "JYKrUZ5WNMaB",
        "outputId": "2d2a0c8f-8e19-4195-cb14-b48e7d090a5a"
      },
      "outputs": [
        {
          "output_type": "execute_result",
          "data": {
            "text/plain": [
              "[{'sentence': 'Anarchism is a political philosophy and movement that is sceptical of authority and rejects all involuntary, coercive forms of hierarchy.',\n",
              "  'label': 1},\n",
              " {'sentence': 'Anarchism calls for the abolition of the state, which it holds to be unnecessary, undesirable, and harmful.',\n",
              "  'label': 0},\n",
              " {'sentence': 'As a historically left-wing movement, placed on the farthest left of the political spectrum, it is usually described alongside communalism and libertarian Marxism as the libertarian wing (libertarian socialism) of the socialist movement, and has a strong historical association with anti-capitalism and socialism.',\n",
              "  'label': 2},\n",
              " {'sentence': 'Humans lived in societies without formal hierarchies long before the establishment of formal states, realms, or empires.',\n",
              "  'label': 1},\n",
              " {'sentence': 'With the rise of organised hierarchical bodies, scepticism toward authority also rose.',\n",
              "  'label': 0},\n",
              " {'sentence': 'Although traces of anarchist thought are found throughout history, modern anarchism emerged from the Enlightenment.',\n",
              "  'label': 0},\n",
              " {'sentence': \"During the latter half of the 19th and the first decades of the 20th century, the anarchist movement flourished in most parts of the world and had a significant role in workers' struggles for emancipation.\",\n",
              "  'label': 0},\n",
              " {'sentence': 'Various anarchist schools of thought formed during this period.',\n",
              "  'label': 0},\n",
              " {'sentence': 'Anarchists have taken part in several revolutions, most notably in the Paris Commune, the Russian Civil War and the Spanish Civil War, whose end marked the end of the classical era of anarchism.',\n",
              "  'label': 0},\n",
              " {'sentence': 'In the last decades of the 20th and into the 21st century, the anarchist movement has been resurgent once more.',\n",
              "  'label': 2},\n",
              " {'sentence': 'Anarchism employs a diversity of tactics in order to meet its ideal ends which can be broadly separated into revolutionary and evolutionary tactics; there is significant overlap between the two, which are merely descriptive.',\n",
              "  'label': 1},\n",
              " {'sentence': 'Revolutionary tactics aim to bring down authority and state, having taken a violent turn in the past, while evolutionary tactics aim to prefigure what an anarchist society would be like.',\n",
              "  'label': 0},\n",
              " {'sentence': 'Anarchist thought, criticism, and praxis have played a part in diverse areas of human society.',\n",
              "  'label': 0},\n",
              " {'sentence': 'Criticism of anarchism include claims that it is internally inconsistent, violent, or utopian.',\n",
              "  'label': 2},\n",
              " {'sentence': 'Etymology, terminology, and definition', 'label': 1},\n",
              " {'sentence': 'The etymological origin of anarchism is from the Ancient Greek anarkhia, meaning \"without a ruler\", composed of the prefix an- (\"without\") and the word arkhos (\"leader\" or \"ruler\").',\n",
              "  'label': 1},\n",
              " {'sentence': 'The suffix -ism denotes the ideological current that favours anarchy.',\n",
              "  'label': 0},\n",
              " {'sentence': 'Anarchism appears in English from 1642 as anarchisme and anarchy from 1539; early English usages emphasised a sense of disorder.',\n",
              "  'label': 0},\n",
              " {'sentence': 'Various factions within the French Revolution labelled their opponents as anarchists, although few such accused shared many views with later anarchists.',\n",
              "  'label': 0},\n",
              " {'sentence': 'Many revolutionaries of the 19th century such as William Godwin (1756–1836) and Wilhelm Weitling (1808–1871) would contribute to the anarchist doctrines of the next generation but did not use anarchist or anarchism in describing themselves or their beliefs.',\n",
              "  'label': 2},\n",
              " {'sentence': 'The first political philosopher to call himself an anarchist () was Pierre-Joseph Proudhon (1809–1865), marking the formal birth of anarchism in the mid-19th century.',\n",
              "  'label': 1},\n",
              " {'sentence': 'Since the 1890s and beginning in France, libertarianism has often been used as a synonym for anarchism and its use as a synonym is still common outside the United States.',\n",
              "  'label': 0},\n",
              " {'sentence': 'Some usages of libertarianism refer to individualistic free-market philosophy only, and free-market anarchism in particular is termed libertarian anarchism.',\n",
              "  'label': 2},\n",
              " {'sentence': 'While the term libertarian has been largely synonymous with anarchism, its meaning has more recently diluted with wider adoption from ideologically disparate groups, including both the New Left and libertarian Marxists, who do not associate themselves with authoritarian socialists or a vanguard party, and extreme cultural liberals, who are primarily concerned with civil liberties.',\n",
              "  'label': 1},\n",
              " {'sentence': \"Additionally, some anarchists use libertarian socialist to avoid anarchism's negative connotations and emphasise its connections with socialism.\",\n",
              "  'label': 0},\n",
              " {'sentence': 'Anarchism is broadly used to describe the anti-authoritarian wing of the socialist movement.',\n",
              "  'label': 0},\n",
              " {'sentence': 'Anarchism is contrasted to socialist forms which are state-oriented or from above.',\n",
              "  'label': 0},\n",
              " {'sentence': \"Scholars of anarchism generally highlight anarchism's socialist credentials and criticise attempts at creating dichotomies between the two.\",\n",
              "  'label': 0},\n",
              " {'sentence': 'Some scholars describe anarchism as having many influences from liberalism, and being both liberals and socialists but more so, while most scholars reject anarcho-capitalism as a misunderstanding of anarchist principles.',\n",
              "  'label': 2},\n",
              " {'sentence': 'While opposition to the state is central to anarchist thought, defining anarchism is not an easy task for scholars, as there is a lot of discussion among scholars and anarchists on the matter, and various currents perceive anarchism slightly differently.',\n",
              "  'label': 1},\n",
              " {'sentence': 'Major definitional elements include the will for a non-coercive society, the rejection of the state apparatus, the belief that human nature allows humans to exist in or progress toward such a non-coercive society, and a suggestion on how to act to pursue the ideal of anarchy.',\n",
              "  'label': 2},\n",
              " {'sentence': 'History', 'label': 1},\n",
              " {'sentence': 'Pre-modern era', 'label': 1},\n",
              " {'sentence': 'Before the establishment of towns and cities, an established authority did not exist.',\n",
              "  'label': 1},\n",
              " {'sentence': 'It was after the creation of institutions of authority that anarchistic ideas espoused as a reaction.',\n",
              "  'label': 0},\n",
              " {'sentence': 'The most notable precursors to anarchism in the ancient world were in China and Greece.',\n",
              "  'label': 0},\n",
              " {'sentence': 'In China, philosophical anarchism (the discussion on the legitimacy of the state) was delineated by Taoist philosophers Zhuang Zhou and Laozi.',\n",
              "  'label': 0},\n",
              " {'sentence': 'Alongside Stoicism, Taoism has been said to have had \"significant anticipations\" of anarchism.',\n",
              "  'label': 0},\n",
              " {'sentence': 'Anarchic attitudes were also articulated by tragedians and philosophers in Greece.',\n",
              "  'label': 0},\n",
              " {'sentence': 'Aeschylus and Sophocles used the myth of Antigone to illustrate the conflict between rules set by the state and personal autonomy.',\n",
              "  'label': 0},\n",
              " {'sentence': 'Socrates questioned Athenian authorities constantly and insisted on the right of individual freedom of conscience.',\n",
              "  'label': 0},\n",
              " {'sentence': 'Cynics dismissed human law (nomos) and associated authorities while trying to live according to nature (physis).',\n",
              "  'label': 0},\n",
              " {'sentence': 'Stoics were supportive of a society based on unofficial and friendly relations among its citizens without the presence of a state.',\n",
              "  'label': 2},\n",
              " {'sentence': 'In medieval Europe, there was no anarchistic activity except some ascetic religious movements.',\n",
              "  'label': 1},\n",
              " {'sentence': 'These, and other Muslim movements, later gave birth to religious anarchism.',\n",
              "  'label': 0},\n",
              " {'sentence': 'In the Sasanian Empire, Mazdak called for an egalitarian society and the abolition of monarchy, only to be soon executed by Emperor Kavad I.',\n",
              "  'label': 2},\n",
              " {'sentence': 'In Basra, religious sects preached against the state.',\n",
              "  'label': 1},\n",
              " {'sentence': 'In Europe, various sects developed anti-state and libertarian tendencies.',\n",
              "  'label': 0},\n",
              " {'sentence': 'Renewed interest in antiquity during the Renaissance and in private judgment during the Reformation restored elements of anti-authoritarian secularism, particularly in France.',\n",
              "  'label': 0},\n",
              " {'sentence': 'Enlightenment challenges to intellectual authority (secular and religious) and the revolutions of the 1790s and 1848 all spurred the ideological development of what became the era of classical anarchism.',\n",
              "  'label': 2},\n",
              " {'sentence': 'Modern era \\nDuring the French Revolution, partisan groups such as the Enragés and the  saw a turning point in the fermentation of anti-state and federalist sentiments.',\n",
              "  'label': 1},\n",
              " {'sentence': \"The first anarchist currents developed throughout the 18th century as William Godwin espoused philosophical anarchism in England, morally delegitimising the state, Max Stirner's thinking paved the way to individualism and Pierre-Joseph Proudhon's theory of mutualism found fertile soil in France.\",\n",
              "  'label': 0},\n",
              " {'sentence': 'By the late 1870s, various anarchist schools of thought had become well-defined and a wave of then unprecedented globalisation occurred from 1880 to 1914.',\n",
              "  'label': 0},\n",
              " {'sentence': 'This era of classical anarchism lasted until the end of the Spanish Civil War and is considered the golden age of anarchism.',\n",
              "  'label': 2},\n",
              " {'sentence': \"Drawing from mutualism, Mikhail Bakunin founded collectivist anarchism and entered the International Workingmen's Association, a class worker union later known as the First International that formed in 1864 to unite diverse revolutionary currents.\",\n",
              "  'label': 1},\n",
              " {'sentence': 'The International became a significant political force, with Karl Marx being a leading figure and a member of its General Council.',\n",
              "  'label': 0},\n",
              " {'sentence': \"Bakunin's faction (the Jura Federation) and Proudhon's followers (the mutualists) opposed state socialism, advocating political abstentionism and small property holdings.\",\n",
              "  'label': 0},\n",
              " {'sentence': 'After bitter disputes, the Bakuninists were expelled from the International by the Marxists at the 1872 Hague Congress.',\n",
              "  'label': 0},\n",
              " {'sentence': 'Anarchists were treated similarly in the Second International, being ultimately expelled in 1896.',\n",
              "  'label': 0},\n",
              " {'sentence': \"Bakunin famously predicted that if revolutionaries gained power by Marx's terms, they would end up the new tyrants of workers.\",\n",
              "  'label': 0},\n",
              " {'sentence': 'In response to their expulsion from the First International, anarchists formed the St. Imier International.',\n",
              "  'label': 0},\n",
              " {'sentence': 'Under the influence of Peter Kropotkin, a Russian philosopher and scientist, anarcho-communism overlapped with collectivism.',\n",
              "  'label': 0},\n",
              " {'sentence': \"Anarcho-communists, who drew inspiration from the 1871 Paris Commune, advocated for free federation and for the distribution of goods according to one's needs.\",\n",
              "  'label': 2},\n",
              " {'sentence': 'At the turn of the century, anarchism had spread all over the world.',\n",
              "  'label': 1},\n",
              " {'sentence': 'It was a notable feature of the international syndicalism movement.',\n",
              "  'label': 0},\n",
              " {'sentence': 'In China, small groups of students imported the humanistic pro-science version of anarcho-communism.',\n",
              "  'label': 0},\n",
              " {'sentence': 'Tokyo was a hotspot for rebellious youth from countries of the far east, travelling to the Japanese capital to study.',\n",
              "  'label': 0},\n",
              " {'sentence': 'In Latin America, Argentina was a stronghold for anarcho-syndicalism, where it became the most prominent left-wing ideology.',\n",
              "  'label': 0},\n",
              " {'sentence': 'During this time, a minority of anarchists adopted tactics of revolutionary political violence.',\n",
              "  'label': 0},\n",
              " {'sentence': 'This strategy became known as propaganda of the deed.',\n",
              "  'label': 0},\n",
              " {'sentence': 'The dismemberment of the French socialist movement into many groups and the execution and exile of many Communards to penal colonies following the suppression of the Paris Commune favoured individualist political expression and acts.',\n",
              "  'label': 0},\n",
              " {'sentence': 'Even though many anarchists distanced themselves from these terrorist acts, infamy came upon the movement and attempts were made to exclude them from American immigration, including the Immigration Act of 1903, also called the Anarchist Exclusion Act.',\n",
              "  'label': 0},\n",
              " {'sentence': 'Illegalism was another strategy which some anarchists adopted during this period.',\n",
              "  'label': 2},\n",
              " {'sentence': 'Despite concerns, anarchists enthusiastically participated in the Russian Revolution in opposition to the White movement; however, they met harsh suppression after the Bolshevik government was stabilised.',\n",
              "  'label': 1},\n",
              " {'sentence': \"Several anarchists from Petrograd and Moscow fled to Ukraine, notably leading to the Kronstadt rebellion and Nestor Makhno's struggle in the Free Territory.\",\n",
              "  'label': 0},\n",
              " {'sentence': 'With the anarchists being crushed in Russia, two new antithetical currents emerged, namely platformism and synthesis anarchism.',\n",
              "  'label': 0},\n",
              " {'sentence': 'The former sought to create a coherent group that would push for revolution while the latter were against anything that would resemble a political party.',\n",
              "  'label': 0},\n",
              " {'sentence': 'Seeing the victories of the Bolsheviks in the October Revolution and the resulting Russian Civil War, many workers and activists turned to communist parties which grew at the expense of anarchism and other socialist movements.',\n",
              "  'label': 0},\n",
              " {'sentence': 'In France and the United States, members of major syndicalist movements such as the General Confederation of Labour and the Industrial Workers of the World left their organisations and joined the Communist International.',\n",
              "  'label': 2},\n",
              " {'sentence': 'In the Spanish Civil War of 1936, anarchists and syndicalists (CNT and FAI) once again allied themselves with various currents of leftists.',\n",
              "  'label': 1},\n",
              " {'sentence': 'A long tradition of Spanish anarchism led to anarchists playing a pivotal role in the war.',\n",
              "  'label': 0},\n",
              " {'sentence': 'In response to the army rebellion, an anarchist-inspired movement of peasants and workers, supported by armed militias, took control of Barcelona and of large areas of rural Spain, where they collectivised the land.',\n",
              "  'label': 0},\n",
              " {'sentence': 'The Soviet Union provided some limited assistance at the beginning of the war, but the result was a bitter fight among communists and anarchists at a series of events named May Days as Joseph Stalin tried to seize control of the Republicans.',\n",
              "  'label': 2},\n",
              " {'sentence': 'Post-war era', 'label': 1},\n",
              " {'sentence': 'At the end of World War II, the anarchist movement was severely weakened.',\n",
              "  'label': 1},\n",
              " {'sentence': 'The 1960s witnessed a revival of anarchism, likely caused by a perceived failure of Marxism–Leninism and tensions built by the Cold War.',\n",
              "  'label': 0},\n",
              " {'sentence': 'During this time, anarchism found a presence in other movements critical towards both capitalism and the state such as the anti-nuclear, environmental, and peace movements, the counterculture of the 1960s, and the New Left.',\n",
              "  'label': 0},\n",
              " {'sentence': 'It also saw a transition from its previous revolutionary nature to provocative anti-capitalist reformism.',\n",
              "  'label': 0},\n",
              " {'sentence': 'Anarchism became associated with punk subculture as exemplified by bands such as Crass and the Sex Pistols.',\n",
              "  'label': 0},\n",
              " {'sentence': 'The established feminist tendencies of anarcha-feminism returned with vigour during the second wave of feminism.',\n",
              "  'label': 0},\n",
              " {'sentence': \"Black anarchism began to take form at this time and influenced anarchism's move from a Eurocentric demographic.\",\n",
              "  'label': 0},\n",
              " {'sentence': 'This coincided with its failure to gain traction in Northern Europe and its unprecedented height in Latin America.',\n",
              "  'label': 2},\n",
              " {'sentence': 'Around the turn of the 21st century, anarchism grew in popularity and influence within anti-capitalist, anti-war and anti-globalisation movements.',\n",
              "  'label': 1},\n",
              " {'sentence': 'Anarchists became known for their involvement in protests against the World Trade Organization (WTO), the Group of Eight and the World Economic Forum.',\n",
              "  'label': 0},\n",
              " {'sentence': 'During the protests, ad hoc leaderless anonymous cadres known as black blocs engaged in rioting, property destruction and violent confrontations with the police.',\n",
              "  'label': 0},\n",
              " {'sentence': 'Other organisational tactics pioneered in this time include affinity groups, security culture and the use of decentralised technologies such as the Internet.',\n",
              "  'label': 0},\n",
              " {'sentence': 'A significant event of this period was the confrontations at the 1999 Seattle WTO conference.',\n",
              "  'label': 0},\n",
              " {'sentence': 'Anarchist ideas have been influential in the development of the Zapatistas in Mexico and the Democratic Federation of Northern Syria, more commonly known as Rojava, a de facto autonomous region in northern Syria.',\n",
              "  'label': 2},\n",
              " {'sentence': 'Thought', 'label': 1},\n",
              " {'sentence': 'Anarchist schools of thought have been generally grouped into two main historical traditions, social anarchism and individualist anarchism, owing to their different origins, values and evolution.',\n",
              "  'label': 1},\n",
              " {'sentence': 'The individualist current emphasises negative liberty in opposing restraints upon the free individual, while the social current emphasises positive liberty in aiming to achieve the free potential of society through equality and social ownership.',\n",
              "  'label': 0},\n",
              " {'sentence': 'In a chronological sense, anarchism can be segmented by the classical currents of the late 19th century and the post-classical currents (anarcha-feminism, green anarchism, and post-anarchism) developed thereafter.',\n",
              "  'label': 2},\n",
              " {'sentence': 'Beyond the specific factions of anarchist movements which constitute political anarchism lies philosophical anarchism which holds that the state lacks moral legitimacy, without necessarily accepting the imperative of revolution to eliminate it.',\n",
              "  'label': 1},\n",
              " {'sentence': 'A component especially of individualist anarchism, philosophical anarchism may tolerate the existence of a minimal state but claims that citizens have no moral obligation to obey government when it conflicts with individual autonomy.',\n",
              "  'label': 0},\n",
              " {'sentence': 'Anarchism pays significant attention to moral arguments since ethics have a central role in anarchist philosophy.',\n",
              "  'label': 0},\n",
              " {'sentence': \"Anarchism's emphasis on anti-capitalism, egalitarianism, and for the extension of community and individuality sets it apart from anarcho-capitalism and other types of economic libertarianism.\",\n",
              "  'label': 2},\n",
              " {'sentence': 'Anarchism is usually placed on the far-left of the political spectrum.',\n",
              "  'label': 1},\n",
              " {'sentence': 'Much of its economics and legal philosophy reflect anti-authoritarian, anti-statist, libertarian, and radical interpretations of left-wing and socialist politics such as collectivism, communism, individualism, mutualism, and syndicalism, among other libertarian socialist economic theories.',\n",
              "  'label': 0},\n",
              " {'sentence': 'As anarchism does not offer a fixed body of doctrine from a single particular worldview, many anarchist types and traditions exist and varieties of anarchy diverge widely.',\n",
              "  'label': 0},\n",
              " {'sentence': 'One reaction against sectarianism within the anarchist milieu was anarchism without adjectives, a call for toleration and unity among anarchists first adopted by Fernando Tarrida del Mármol in 1889 in response to the bitter debates of anarchist theory at the time.',\n",
              "  'label': 0},\n",
              " {'sentence': 'Belief in political nihilism has been espoused by anarchists.',\n",
              "  'label': 0},\n",
              " {'sentence': 'Despite separation, the various anarchist schools of thought are not seen as distinct entities but rather as tendencies that intermingle and are connected through a set of uniform principles such as individual and local autonomy, mutual aid, network organisation, communal democracy, justified authority and decentralisation.',\n",
              "  'label': 2},\n",
              " {'sentence': 'Classical', 'label': 1},\n",
              " {'sentence': 'Inceptive currents among classical anarchist currents were mutualism and individualism.',\n",
              "  'label': 1},\n",
              " {'sentence': 'They were followed by the major currents of social anarchism (collectivist, communist and syndicalist).',\n",
              "  'label': 0},\n",
              " {'sentence': 'They differ on organisational and economic aspects of their ideal society.',\n",
              "  'label': 2},\n",
              " {'sentence': 'Mutualism is an 18th-century economic theory that was developed into anarchist theory by Pierre-Joseph Proudhon.',\n",
              "  'label': 1},\n",
              " {'sentence': 'Its aims include reciprocity, free association, voluntary contract, federation and monetary reform of both credit and currency that would be regulated by a bank of the people.',\n",
              "  'label': 0},\n",
              " {'sentence': 'Mutualism has been retrospectively characterised as ideologically situated between individualist and collectivist forms of anarchism.',\n",
              "  'label': 0},\n",
              " {'sentence': 'In What Is Property?', 'label': 0},\n",
              " {'sentence': '(1840), Proudhon first characterised his goal as a \"third form of society, the synthesis of communism and property.\"',\n",
              "  'label': 0},\n",
              " {'sentence': 'Collectivist anarchism is a revolutionary socialist form of anarchism commonly associated with Mikhail Bakunin.',\n",
              "  'label': 0},\n",
              " {'sentence': 'Collectivist anarchists advocate collective ownership of the means of production which is theorised to be achieved through violent revolution and that workers be paid according to time worked, rather than goods being distributed according to need as in communism.',\n",
              "  'label': 0},\n",
              " {'sentence': 'Collectivist anarchism arose alongside Marxism but rejected the dictatorship of the proletariat despite the stated Marxist goal of a collectivist stateless society.',\n",
              "  'label': 2},\n",
              " {'sentence': 'Anarcho-communism is a theory of anarchism that advocates a communist society with common ownership of the means of production, direct democracy and a horizontal network of voluntary associations, workers\\' councils and worker cooperatives, with production and consumption based on the guiding principle \"From each according to his ability, to each according to his need.\"',\n",
              "  'label': 1},\n",
              " {'sentence': 'Anarcho-communism developed from radical socialist currents after the French Revolution but was first formulated as such in the Italian section of the First International.',\n",
              "  'label': 0},\n",
              " {'sentence': 'It was later expanded upon in the theoretical work of Peter Kropotkin, whose specific style would go onto become the dominating view of anarchists by the late 19th century.',\n",
              "  'label': 0},\n",
              " {'sentence': 'Anarcho-syndicalism is a branch of anarchism that views labour syndicates as a potential force for revolutionary social change, replacing capitalism and the state with a new society democratically self-managed by workers.',\n",
              "  'label': 0},\n",
              " {'sentence': \"The basic principles of anarcho-syndicalism are direct action, workers' solidarity and workers' self-management.\",\n",
              "  'label': 2},\n",
              " {'sentence': 'Individualist anarchism is a set of several traditions of thought within the anarchist movement that emphasise the individual and their will over any kinds of external determinants.',\n",
              "  'label': 1},\n",
              " {'sentence': 'Early influences on individualist forms of anarchism include William Godwin, Max Stirner, and Henry David Thoreau.',\n",
              "  'label': 0},\n",
              " {'sentence': 'Through many countries, individualist anarchism attracted a small yet diverse following of Bohemian artists and intellectuals as well as young anarchist outlaws in what became known as illegalism and individual reclamation.',\n",
              "  'label': 2},\n",
              " {'sentence': 'Post-classical and contemporary', 'label': 1},\n",
              " {'sentence': 'Anarchist principles undergird contemporary radical social movements of the left.',\n",
              "  'label': 1},\n",
              " {'sentence': 'Interest in the anarchist movement developed alongside momentum in the anti-globalisation movement, whose leading activist networks were anarchist in orientation.',\n",
              "  'label': 0},\n",
              " {'sentence': 'As the movement shaped 21st century radicalism, wider embrace of anarchist principles signaled a revival of interest.',\n",
              "  'label': 0},\n",
              " {'sentence': 'Anarchism has continued to generate many philosophies and movements, at times eclectic, drawing upon various sources and combining disparate concepts to create new philosophical approaches.',\n",
              "  'label': 0},\n",
              " {'sentence': 'The anti-capitalist tradition of classical anarchism has remained prominent within contemporary currents.',\n",
              "  'label': 2},\n",
              " {'sentence': \"Contemporary news coverage which emphasizes black bloc demonstrations has reinforced anarchism's historical association with chaos and violence.\",\n",
              "  'label': 1},\n",
              " {'sentence': 'Its publicity has also led more scholars in fields such as anthropology and history to engage with the anarchist movement, although contemporary anarchism favours actions over academic theory.',\n",
              "  'label': 0},\n",
              " {'sentence': 'Various anarchist groups, tendencies, and schools of thought exist today, making it difficult to describe the contemporary anarchist movement.',\n",
              "  'label': 0},\n",
              " {'sentence': 'While theorists and activists have established \"relatively stable constellations of anarchist principles\", there is no consensus on which principles are core and commentators describe multiple anarchisms, rather than a singular anarchism, in which common principles are shared between schools of anarchism while each group prioritizes those principles differently.',\n",
              "  'label': 0},\n",
              " {'sentence': 'Gender equality can be a common principle, although it ranks as a higher priority to anarcha-feminists than anarcho-communists.',\n",
              "  'label': 2},\n",
              " {'sentence': 'Anarchists are generally committed against coercive authority in all forms, namely \"all centralized and hierarchical forms of government (e.g., monarchy, representative democracy, state socialism, etc.',\n",
              "  'label': 1},\n",
              " {'sentence': '), economic class systems (e.g., capitalism, Bolshevism, feudalism, slavery, etc.',\n",
              "  'label': 0},\n",
              " {'sentence': '), autocratic religions (e.g., fundamentalist Islam, Roman Catholicism, etc.',\n",
              "  'label': 0},\n",
              " {'sentence': '), patriarchy, heterosexism, white supremacy, and imperialism.\"',\n",
              "  'label': 0},\n",
              " {'sentence': 'Anarchist schools disagree on the methods by which these forms should be opposed.',\n",
              "  'label': 0},\n",
              " {'sentence': 'The principle of equal liberty is closer to anarchist political ethics in that it transcends both the liberal and socialist traditions.',\n",
              "  'label': 0},\n",
              " {'sentence': 'This entails that liberty and equality cannot be implemented within the state, resulting in the questioning of all forms of domination and hierarchy.',\n",
              "  'label': 2},\n",
              " {'sentence': \"Tactics \\nAnarchists' tactics take various forms but in general serve two major goals, namely to first oppose the Establishment and secondly to promote anarchist ethics and reflect an anarchist vision of society, illustrating the unity of means and ends.\",\n",
              "  'label': 1},\n",
              " {'sentence': 'A broad categorisation can be made between aims to destroy oppressive states and institutions by revolutionary means on one hand and aims to change society through evolutionary means on the other.',\n",
              "  'label': 0},\n",
              " {'sentence': 'Evolutionary tactics embrace nonviolence, reject violence and take a gradual approach to anarchist aims, although there is significant overlap between the two.',\n",
              "  'label': 2},\n",
              " {'sentence': 'Anarchist tactics have shifted during the course of the last century.',\n",
              "  'label': 1},\n",
              " {'sentence': 'Anarchists during the early 20th century focused more on strikes and militancy while contemporary anarchists use a broader array of approaches.',\n",
              "  'label': 2},\n",
              " {'sentence': 'Classical era tactics', 'label': 1},\n",
              " {'sentence': 'During the classical era, anarchists had a militant tendency.',\n",
              "  'label': 1},\n",
              " {'sentence': 'Not only did they confront state armed forces, as in Spain and Ukraine, but some of them also employed terrorism as propaganda of the deed.',\n",
              "  'label': 0},\n",
              " {'sentence': 'Assassination attempts were carried out against heads of state, some of which were successful.',\n",
              "  'label': 0},\n",
              " {'sentence': 'Anarchists also took part in revolutions.', 'label': 0},\n",
              " {'sentence': 'Many anarchists, especially the Galleanists, believed that these attempts would be the impetus for a revolution against capitalism and the state.',\n",
              "  'label': 0},\n",
              " {'sentence': 'Many of these attacks were done by individual assailants and the majority took place in the late 1870s, the early 1880s and the 1890s, with some still occurring in the early 1900s.',\n",
              "  'label': 0},\n",
              " {'sentence': 'Their decrease in prevalence was the result of further judicial power and targeting and cataloging by state institutions.',\n",
              "  'label': 2},\n",
              " {'sentence': 'Anarchist perspectives towards violence have always been controversial.',\n",
              "  'label': 1},\n",
              " {'sentence': 'Anarcho-pacifists advocate for non-violence means to achieve their stateless, nonviolent ends.',\n",
              "  'label': 0},\n",
              " {'sentence': 'Other anarchist groups advocate direct action, a tactic which can include acts of sabotage or terrorism.',\n",
              "  'label': 0},\n",
              " {'sentence': 'This attitude was quite prominent a century ago when seeing the state as a tyrant and some anarchists believing that they had every right to oppose its oppression by any means possible.',\n",
              "  'label': 0},\n",
              " {'sentence': 'Emma Goldman and Errico Malatesta, who were proponents of limited use of violence, stated that violence is merely a reaction to state violence as a necessary evil.',\n",
              "  'label': 2},\n",
              " {'sentence': 'Anarchists took an active role in strike actions, although they tended to be antipathetic to formal syndicalism, seeing it as reformist.',\n",
              "  'label': 1},\n",
              " {'sentence': 'They saw it as a part of the movement which sought to overthrow the state and capitalism.',\n",
              "  'label': 0},\n",
              " {'sentence': 'Anarchists also reinforced their propaganda within the arts, some of whom practiced naturism and nudism.',\n",
              "  'label': 0},\n",
              " {'sentence': 'Those anarchists also built communities which were based on friendship and were involved in the news media.',\n",
              "  'label': 2},\n",
              " {'sentence': 'Revolutionary tactics', 'label': 1},\n",
              " {'sentence': 'In the current era, Italian anarchist Alfredo Bonanno, a proponent of insurrectionary anarchism, has reinstated the debate on violence by rejecting the nonviolence tactic adopted since the late 19th century by Kropotkin and other prominent anarchists afterwards.',\n",
              "  'label': 1},\n",
              " {'sentence': 'Both Bonanno and the French group The Invisible Committee advocate for small, informal affiliation groups, where each member is responsible for their own actions but works together to bring down oppression utilizing sabotage and other violent means against state, capitalism, and other enemies.',\n",
              "  'label': 0},\n",
              " {'sentence': 'Members of The Invisible Committee were arrested in 2008 on various charges, terrorism included.',\n",
              "  'label': 2},\n",
              " {'sentence': 'Overall, contemporary anarchists are much less violent and militant than their ideological ancestors.',\n",
              "  'label': 1},\n",
              " {'sentence': 'They mostly engage in confronting the police during demonstrations and riots, especially in countries such as Canada, Greece, and Mexico.',\n",
              "  'label': 0},\n",
              " {'sentence': 'Militant black bloc protest groups are known for clashing with the police; however, anarchists not only clash with state operators, they also engage in the struggle against fascists and racists, taking anti-fascist action and mobilizing to prevent hate rallies from happening.',\n",
              "  'label': 2},\n",
              " {'sentence': 'Evolutionary tactics \\nAnarchists commonly employ direct action.',\n",
              "  'label': 1},\n",
              " {'sentence': 'This can take the form of disrupting and protesting against unjust hierarchy, or the form of self-managing their lives through the creation of counter-institutions such as communes and non-hierarchical collectives.',\n",
              "  'label': 0},\n",
              " {'sentence': 'Decision-making is often handled in an anti-authoritarian way, with everyone having equal say in each decision, an approach known as horizontalism.',\n",
              "  'label': 0},\n",
              " {'sentence': 'Contemporary-era anarchists have been engaging with various grassroots movements that are more or less based on horizontalism, although not explicitly anarchist, respecting personal autonomy and participating in mass activism such as strikes and demonstrations.',\n",
              "  'label': 0},\n",
              " {'sentence': 'In contrast with the big-A anarchism of the classical era, the newly coined term small-a anarchism signals their tendency not to base their thoughts and actions on classical-era anarchism or to refer to classical anarchists such as Peter Kropotkin and Pierre-Joseph Proudhon to justify their opinions.',\n",
              "  'label': 0},\n",
              " {'sentence': 'Those anarchists would rather base their thought and praxis on their own experience which they will later theorize.',\n",
              "  'label': 2},\n",
              " {'sentence': 'The decision-making process of small anarchist affinity groups plays a significant tactical role.',\n",
              "  'label': 1},\n",
              " {'sentence': 'Anarchists have employed various methods in order to build a rough consensus among members of their group without the need of a leader or a leading group.',\n",
              "  'label': 0},\n",
              " {'sentence': 'One way is for an individual from the group to play the role of facilitator to help achieve a consensus without taking part in the discussion themselves or promoting a specific point.',\n",
              "  'label': 0},\n",
              " {'sentence': 'Minorities usually accept rough consensus, except when they feel the proposal contradicts anarchist ethics, goals and values.',\n",
              "  'label': 0},\n",
              " {'sentence': 'Anarchists usually form small groups (5–20 individuals) to enhance autonomy and friendships among their members.',\n",
              "  'label': 0},\n",
              " {'sentence': 'These kinds of groups more often than not interconnect with each other, forming larger networks.',\n",
              "  'label': 0},\n",
              " {'sentence': 'Anarchists still support and participate in strikes, especially wildcat strikes as these are leaderless strikes not organised centrally by a syndicate.',\n",
              "  'label': 2},\n",
              " {'sentence': 'As in the past, newspapers and journals are used, and anarchists have gone online in the World Wide Web to spread their message.',\n",
              "  'label': 1},\n",
              " {'sentence': 'Anarchists have found it easier to create websites because of distributional and other difficulties, hosting electronic libraries and other portals.',\n",
              "  'label': 0},\n",
              " {'sentence': 'Anarchists were also involved in developing various software that are available for free.',\n",
              "  'label': 0},\n",
              " {'sentence': \"The way these hacktivists work to develop and distribute resembles the anarchist ideals, especially when it comes to preserving users' privacy from state surveillance.\",\n",
              "  'label': 2},\n",
              " {'sentence': 'Anarchists organize themselves to squat and reclaim public spaces.',\n",
              "  'label': 1},\n",
              " {'sentence': 'During important events such as protests and when spaces are being occupied, they are often called Temporary Autonomous Zones (TAZ), spaces where art, poetry, and surrealism are blended to display the anarchist ideal.',\n",
              "  'label': 0},\n",
              " {'sentence': 'As seen by anarchists, squatting is a way to regain urban space from the capitalist market, serving pragmatical needs and also being an exemplary direct action.',\n",
              "  'label': 0},\n",
              " {'sentence': 'Acquiring space enables anarchists to experiment with their ideas and build social bonds.',\n",
              "  'label': 0},\n",
              " {'sentence': 'Adding up these tactics while having in mind that not all anarchists share the same attitudes towards them, along with various forms of protesting at highly symbolic events, make up a carnivalesque atmosphere that is part of contemporary anarchist vividity.',\n",
              "  'label': 2},\n",
              " {'sentence': 'Key issues', 'label': 1},\n",
              " {'sentence': 'As anarchism is a philosophy that embodies many diverse attitudes, tendencies, and schools of thought; disagreement over questions of values, ideology, and tactics is common.',\n",
              "  'label': 1},\n",
              " {'sentence': 'Its diversity has led to widely different uses of identical terms among different anarchist traditions which has created a number of definitional concerns in anarchist theory.',\n",
              "  'label': 0},\n",
              " {'sentence': 'The compatibility of capitalism, nationalism, and religion with anarchism is widely disputed, and anarchism enjoys complex relationships with ideologies such as communism, collectivism, Marxism, and trade unionism.',\n",
              "  'label': 0},\n",
              " {'sentence': 'Anarchists may be motivated by humanism, divine authority, enlightened self-interest, veganism, or any number of alternative ethical doctrines.',\n",
              "  'label': 0},\n",
              " {'sentence': 'Phenomena such as civilisation, technology (e.g.', 'label': 0},\n",
              " {'sentence': 'within anarcho-primitivism), and the democratic process may be sharply criticised within some anarchist tendencies and simultaneously lauded in others.',\n",
              "  'label': 2},\n",
              " {'sentence': 'Gender, sexuality, and free love', 'label': 1},\n",
              " {'sentence': \"As gender and sexuality carry along them dynamics of hierarchy, many anarchists address, analyse, and oppose the suppression of one's autonomy imposed by gender roles.\",\n",
              "  'label': 1},\n",
              " {'sentence': 'Sexuality was not often discussed by classical anarchists but the few that did felt that an anarchist society would lead to sexuality naturally developing.',\n",
              "  'label': 1},\n",
              " {'sentence': 'Sexual violence was a concern for anarchists such as Benjamin Tucker, who opposed age of consent laws, believing they would benefit predatory men.',\n",
              "  'label': 0},\n",
              " {'sentence': 'A historical current that arose and flourished during 1890 and 1920 within anarchism was free love.',\n",
              "  'label': 0},\n",
              " {'sentence': 'In contemporary anarchism, this current survives as a tendency to support polyamory and queer anarchism.',\n",
              "  'label': 0},\n",
              " {'sentence': 'Free love advocates were against marriage, which they saw as a way of men imposing authority over women, largely because marriage law greatly favoured the power of men.',\n",
              "  'label': 0},\n",
              " {'sentence': \"The notion of free love was much broader and included a critique of the established order that limited women's sexual freedom and pleasure.\",\n",
              "  'label': 0},\n",
              " {'sentence': 'Those free love movements contributed to the establishment of communal houses, where large groups of travelers, anarchists and other activists slept in beds together.',\n",
              "  'label': 0},\n",
              " {'sentence': 'Free love had roots both in Europe and the United States; however, some anarchists struggled with the jealousy that arose from free love.',\n",
              "  'label': 0},\n",
              " {'sentence': 'Anarchist feminists were advocates of free love, against marriage, and pro-choice (utilising a contemporary term), and had a similar agenda.',\n",
              "  'label': 0},\n",
              " {'sentence': 'Anarchist and non-anarchist feminists differed on suffrage but were supportive of one another.',\n",
              "  'label': 2},\n",
              " {'sentence': 'During the second half of the 20th century, anarchism intermingled with the second wave of feminism, radicalising some currents of the feminist movement and being influenced as well.',\n",
              "  'label': 1},\n",
              " {'sentence': 'By the latest decades of the 20th century, anarchists and feminists were advocating for the rights and autonomy of women, gays, queers and other marginalised groups, with some feminist thinkers suggesting a fusion of the two currents.',\n",
              "  'label': 0},\n",
              " {'sentence': 'With the third wave of feminism, sexual identity and compulsory heterosexuality became a subject of study for anarchists, yielding a post-structuralist critique of sexual normality.',\n",
              "  'label': 0},\n",
              " {'sentence': 'Some anarchists distanced themselves from this line of thinking, suggesting that it leaned towards an individualism that was dropping the cause of social liberation.',\n",
              "  'label': 2},\n",
              " {'sentence': 'Anarchism and education', 'label': 1},\n",
              " {'sentence': 'The interest of anarchists in education stretches back to the first emergence of classical anarchism.',\n",
              "  'label': 1},\n",
              " {'sentence': 'Anarchists consider proper education, one which sets the foundations of the future autonomy of the individual and the society, to be an act of mutual aid.',\n",
              "  'label': 0},\n",
              " {'sentence': 'Anarchist writers such as William Godwin (Political Justice) and Max Stirner (\"The False Principle of Our Education\") attacked both state education and private education as another means by which the ruling class replicate their privileges.',\n",
              "  'label': 2},\n",
              " {'sentence': 'In 1901, Catalan anarchist and free thinker Francisco Ferrer established the Escuela Moderna in Barcelona as an opposition to the established education system which was dictated largely by the Catholic Church.',\n",
              "  'label': 1},\n",
              " {'sentence': \"Ferrer's approach was secular, rejecting both state and church involvement in the educational process whilst giving pupils large amounts of autonomy in planning their work and attendance.\",\n",
              "  'label': 0},\n",
              " {'sentence': 'Ferrer aimed to educate the working class and explicitly sought to foster class consciousness among students.',\n",
              "  'label': 0},\n",
              " {'sentence': 'The school closed after constant harassment by the state and Ferrer was later arrested.',\n",
              "  'label': 0},\n",
              " {'sentence': 'Nonetheless, his ideas formed the inspiration for a series of modern schools around the world.',\n",
              "  'label': 0},\n",
              " {'sentence': 'Christian anarchist Leo Tolstoy, who published the essay Education and Culture, also established a similar school with its founding principle being that \"for education to be effective it had to be free.\"',\n",
              "  'label': 0},\n",
              " {'sentence': 'In a similar token, A. S. Neill founded what became the Summerhill School in 1921, also declaring being free from coercion.',\n",
              "  'label': 2},\n",
              " {'sentence': \"Anarchist education is based largely on the idea that a child's right to develop freely and without manipulation ought to be respected and that rationality would lead children to morally good conclusions; however, there has been little consensus among anarchist figures as to what constitutes manipulation.\",\n",
              "  'label': 1},\n",
              " {'sentence': 'Ferrer believed that moral indoctrination was necessary and explicitly taught pupils that equality, liberty and social justice were not possible under capitalism, along with other critiques of government and nationalism.',\n",
              "  'label': 2},\n",
              " {'sentence': \"Late 20th century and contemporary anarchist writers (Paul Goodman, Herbert Read, and Colin Ward) intensified and expanded the anarchist critique of state education, largely focusing on the need for a system that focuses on children's creativity rather than on their ability to attain a career or participate in consumerism as part of a consumer society.\",\n",
              "  'label': 1},\n",
              " {'sentence': 'Contemporary anarchists such as Ward claim that state education serves to perpetuate socioeconomic inequality.',\n",
              "  'label': 2},\n",
              " {'sentence': 'While few anarchist education institutions have survived to the modern-day, major tenets of anarchist schools, among them respect for child autonomy and relying on reasoning rather than indoctrination as a teaching method, have spread among mainstream educational institutions.',\n",
              "  'label': 1},\n",
              " {'sentence': 'Judith Suissa names three schools as explicitly anarchists schools, namely the Free Skool Santa Cruz in the United States which is part of a wider American-Canadian network of schools, the Self-Managed Learning College in Brighton, England, and the Paideia School in Spain.',\n",
              "  'label': 2},\n",
              " {'sentence': 'Anarchism and the state', 'label': 1},\n",
              " {'sentence': 'Objection to the state and its institutions is a sine qua non of anarchism.',\n",
              "  'label': 1},\n",
              " {'sentence': 'Anarchists consider the state as a tool of domination and believe it to be illegitimate regardless of its political tendencies.',\n",
              "  'label': 0},\n",
              " {'sentence': 'Instead of people being able to control the aspects of their life, major decisions are taken by a small elite.',\n",
              "  'label': 0},\n",
              " {'sentence': 'Authority ultimately rests solely on power, regardless of whether that power is open or transparent, as it still has the ability to coerce people.',\n",
              "  'label': 0},\n",
              " {'sentence': 'Another anarchist argument against states is that the people constituting a government, even the most altruistic among officials, will unavoidably seek to gain more power, leading to corruption.',\n",
              "  'label': 0},\n",
              " {'sentence': 'Anarchists consider the idea that the state is the collective will of the people to be an unachievable fiction due to the fact that the ruling class is distinct from the rest of society.',\n",
              "  'label': 2},\n",
              " {'sentence': 'Specific anarchist attitudes towards the state vary.',\n",
              "  'label': 1},\n",
              " {'sentence': 'Robert Paul Wolff believed that the tension between authority and autonomy would mean the state could never be legitimate.',\n",
              "  'label': 0},\n",
              " {'sentence': 'Bakunin saw the state as meaning \"coercion, domination by means of coercion, camouflaged if possible but unceremonious and overt if need be.\"',\n",
              "  'label': 0},\n",
              " {'sentence': 'A. John Simmons and Leslie Green, who leaned toward philosophical anarchism, believed that the state could be legitimate if it is governed by consensus, although they saw this as highly unlikely.',\n",
              "  'label': 0},\n",
              " {'sentence': 'Beliefs on how to abolish the state also differ.', 'label': 2},\n",
              " {'sentence': 'Anarchism and the arts', 'label': 1},\n",
              " {'sentence': 'The connection between anarchism and art was quite profound during the classical era of anarchism, especially among artistic currents that were developing during that era such as futurists, surrealists and others.',\n",
              "  'label': 1},\n",
              " {'sentence': 'In literature, anarchism was mostly associated with the New Apocalyptics and the neo-romanticism movement.',\n",
              "  'label': 0},\n",
              " {'sentence': 'In music, anarchism has been associated with music scenes such as punk.',\n",
              "  'label': 0},\n",
              " {'sentence': 'Anarchists such as Leo Tolstoy and Herbert Read stated that the border between the artist and the non-artist, what separates art from a daily act, is a construct produced by the alienation caused by capitalism and it prevents humans from living a joyful life.',\n",
              "  'label': 2},\n",
              " {'sentence': 'Other anarchists advocated for or used art as a means to achieve anarchist ends.',\n",
              "  'label': 1},\n",
              " {'sentence': 'In his book Breaking the Spell: A History of Anarchist Filmmakers, Videotape Guerrillas, and Digital Ninjas, Chris Robé claims that \"anarchist-inflected practices have increasingly structured movement-based video activism.\"',\n",
              "  'label': 0},\n",
              " {'sentence': 'Throughout the 20th century, many prominent anarchists (Peter Kropotkin, Emma Goldman, Gustav Landauer and Camillo Berneri) and publications such as Anarchy wrote about matters pertaining to the arts.',\n",
              "  'label': 2},\n",
              " {'sentence': 'Three overlapping properties made art useful to anarchists.',\n",
              "  'label': 1},\n",
              " {'sentence': 'It could depict a critique of existing society and hierarchies, serve as a prefigurative tool to reflect the anarchist ideal society and even turn into a means of direct action such as in protests.',\n",
              "  'label': 0},\n",
              " {'sentence': 'As it appeals to both emotion and reason, art could appeal to the whole human and have a powerful effect.',\n",
              "  'label': 0},\n",
              " {'sentence': 'The 19th-century neo-impressionist movement had an ecological aesthetic and offered an example of an anarchist perception of the road towards socialism.',\n",
              "  'label': 0},\n",
              " {'sentence': 'In Les chataigniers a Osny by anarchist painter Camille Pissarro, the blending of aesthetic and social harmony is prefiguring an ideal anarchistic agrarian community.',\n",
              "  'label': 2},\n",
              " {'sentence': 'Analysis \\nThe most common critique of anarchism is that humans cannot self-govern and so a state is necessary for human survival.',\n",
              "  'label': 1},\n",
              " {'sentence': 'Philosopher Bertrand Russell supported this critique, stating that \"[p]eace and war, tariffs, regulations of sanitary conditions and the sale of noxious drugs, the preservation of a just system of distribution: these, among others, are functions which could hardly be performed in a community in which there was no central government.\"',\n",
              "  'label': 0},\n",
              " {'sentence': 'Another common criticism of anarchism is that it fits a world of isolation in which only the small enough entities can be self-governing; a response would be that major anarchist thinkers advocated anarchist federalism.',\n",
              "  'label': 2},\n",
              " {'sentence': 'Philosophy lecturer Andrew G. Fiala composed a list of common arguments against anarchism which includes critiques such as that anarchism is innately related to violence and destruction, not only in the pragmatic world, such as at protests, but in the world of ethics as well.',\n",
              "  'label': 1},\n",
              " {'sentence': 'Secondly, anarchism is evaluated as unfeasible or utopian since the state cannot be defeated practically.',\n",
              "  'label': 0},\n",
              " {'sentence': 'This line of arguments most often calls for political action within the system to reform it.',\n",
              "  'label': 0},\n",
              " {'sentence': 'The third argument is that anarchism is self-contradictory.',\n",
              "  'label': 0},\n",
              " {'sentence': 'While it advocates for no-one to archiei, if accepted by the many, then anarchism would turn into the ruling political theory.',\n",
              "  'label': 0},\n",
              " {'sentence': 'In this line of criticism also comes the self-contradiction that anarchism calls for collective action whilst endorsing the autonomy of the individual, hence no collective action can be taken.',\n",
              "  'label': 0},\n",
              " {'sentence': 'Lastly, Fiala mentions a critique towards philosophical anarchism of being ineffective (all talk and thoughts) and in the meantime capitalism and bourgeois class remains strong.',\n",
              "  'label': 2},\n",
              " {'sentence': \"Philosophical anarchism has met the criticism of members of academia following the release of pro-anarchist books such as A. John Simmons' Moral Principles and Political Obligations.\",\n",
              "  'label': 1},\n",
              " {'sentence': 'Law professor William A. Edmundson authored an essay to argue against three major philosophical anarchist principles which he finds fallacious.',\n",
              "  'label': 0},\n",
              " {'sentence': 'Edmundson says that while the individual does not owe the state a duty of obedience, this does not imply that anarchism is the inevitable conclusion and the state is still morally legitimate.',\n",
              "  'label': 0},\n",
              " {'sentence': 'In The Problem of Political Authority, Michael Huemer defends philosophical anarchism, claiming that \"political authority is a moral illusion.\"',\n",
              "  'label': 2},\n",
              " {'sentence': 'One of the earliest criticisms is that anarchism defies and fails to understand the biological inclination to authority.',\n",
              "  'label': 1},\n",
              " {'sentence': 'Joseph Raz states that the acceptance of authority implies the belief that following their instructions will afford more success.',\n",
              "  'label': 0},\n",
              " {'sentence': \"Raz believes that this argument is true in following both authorities' successful and mistaken instruction.\",\n",
              "  'label': 0},\n",
              " {'sentence': 'Anarchists reject this criticism because challenging or disobeying authority does not entail the disappearance of its advantages by acknowledging authority such as doctors or lawyers as reliable, nor does it involve a complete surrender of independent judgment.',\n",
              "  'label': 0},\n",
              " {'sentence': 'Anarchist perception of human nature, rejection of the state, and commitment to social revolution has been criticised by academics as naive, overly simplistic, and unrealistic, respectively.',\n",
              "  'label': 0},\n",
              " {'sentence': 'Classical anarchism has been criticised for relying too heavily on the belief that the abolition of the state will lead to human cooperation prospering.',\n",
              "  'label': 2},\n",
              " {'sentence': \"Friedrich Engels, considered to be one of the principal founders of Marxism, criticised anarchism's anti-authoritarianism as inherently counter-revolutionary because in his view a revolution is by itself authoritarian.\",\n",
              "  'label': 1},\n",
              " {'sentence': 'Academic John Molyneux writes in his book Anarchism: A Marxist Criticism that \"anarchism cannot win\", believing that it lacks the ability to properly implement its ideas.',\n",
              "  'label': 0},\n",
              " {'sentence': 'The Marxist criticism of anarchism is that it has a utopian character because all individuals should have anarchist views and values.',\n",
              "  'label': 0},\n",
              " {'sentence': 'According to the Marxist view, that a social idea would follow directly from this human ideal and out of the free will of every individual formed its essence.',\n",
              "  'label': 0},\n",
              " {'sentence': 'Marxists state that this contradiction was responsible for their inability to act.',\n",
              "  'label': 0},\n",
              " {'sentence': 'In the anarchist vision, the conflict between liberty and equality was resolved through coexistence and intertwining.',\n",
              "  'label': 2},\n",
              " {'sentence': 'See also', 'label': 1},\n",
              " {'sentence': ' Anarchism by country\\n Governance without government\\n List of anarchist political ideologies\\n List of books about anarchism',\n",
              "  'label': 1},\n",
              " {'sentence': 'References', 'label': 1},\n",
              " {'sentence': 'Citations', 'label': 1},\n",
              " {'sentence': 'Notes', 'label': 1},\n",
              " {'sentence': 'Sources', 'label': 1},\n",
              " {'sentence': 'Primary sources', 'label': 1},\n",
              " {'sentence': 'Secondary sources', 'label': 1}]"
            ]
          },
          "metadata": {},
          "execution_count": 17
        }
      ],
      "source": [
        "json_content[0]"
      ]
    },
    {
      "cell_type": "code",
      "execution_count": 18,
      "metadata": {
        "id": "YIgC_AWwL8vW"
      },
      "outputs": [],
      "source": [
        "# after running, please find file under \"sample_data\" folder on colab\n",
        "\n",
        "with open(\"json_output.json\", \"w\") as f:\n",
        "  json.dump(json_content, f)"
      ]
    },
    {
      "cell_type": "code",
      "execution_count": 19,
      "metadata": {
        "id": "TyjAf4wuaVWI"
      },
      "outputs": [],
      "source": [
        "with open(\"json_output_all.json\", \"w\") as f:\n",
        "  json.dump(json_content_all, f)"
      ]
    },
    {
      "cell_type": "markdown",
      "metadata": {
        "id": "eKwnI-giS-9B"
      },
      "source": [
        "# **BERT Classification Model**\n",
        "\n",
        "Modified from Reference:\n",
        "https://towardsdatascience.com/fine-tuning-bert-for-text-classification-54e7df642894"
      ]
    },
    {
      "cell_type": "markdown",
      "metadata": {
        "id": "4r4eeAKFTY6v"
      },
      "source": [
        "## Json to Dataframe"
      ]
    },
    {
      "cell_type": "code",
      "execution_count": null,
      "metadata": {
        "id": "R-YbXp7dcYfz"
      },
      "outputs": [],
      "source": [
        "df = pd.read_json(r\"/content/json_output_all.json\")       # you should have it saved at this path already if the codes above were run"
      ]
    },
    {
      "cell_type": "code",
      "execution_count": null,
      "metadata": {
        "id": "tVC_61OCcjC8"
      },
      "outputs": [],
      "source": [
        "df[:5]"
      ]
    },
    {
      "cell_type": "code",
      "execution_count": null,
      "metadata": {
        "id": "-qUsCrr5coru"
      },
      "outputs": [],
      "source": [
        "text = df.sentence.values\n",
        "labels = df.label.values"
      ]
    },
    {
      "cell_type": "code",
      "execution_count": null,
      "metadata": {
        "id": "xgKjmqD_csCy"
      },
      "outputs": [],
      "source": [
        "print(len(text))\n",
        "text"
      ]
    },
    {
      "cell_type": "code",
      "execution_count": null,
      "metadata": {
        "id": "4I5vSoCiculL"
      },
      "outputs": [],
      "source": [
        "print(len(labels))\n",
        "labels"
      ]
    },
    {
      "cell_type": "markdown",
      "metadata": {
        "id": "EqfNjUy3dDKN"
      },
      "source": [
        "## BERT Model Setup"
      ]
    },
    {
      "cell_type": "code",
      "execution_count": null,
      "metadata": {
        "id": "gQCaG7r_dCm_"
      },
      "outputs": [],
      "source": [
        "tokenizer = BertTokenizer.from_pretrained(\n",
        "    'bert-base-uncased',\n",
        "    do_lower_case = True\n",
        "    )"
      ]
    },
    {
      "cell_type": "markdown",
      "metadata": {
        "id": "ckA751t_TbwN"
      },
      "source": [
        "## Runs"
      ]
    },
    {
      "cell_type": "code",
      "execution_count": null,
      "metadata": {
        "id": "89fCJ4kUeSmH"
      },
      "outputs": [],
      "source": [
        "def preprocessing(input_text, tokenizer):\n",
        "  '''\n",
        "  Returns <class transformers.tokenization_utils_base.BatchEncoding> with the following fields:\n",
        "    - input_ids: list of token ids\n",
        "    - token_type_ids: list of token type ids\n",
        "    - attention_mask: list of indices (0,1) specifying which tokens should considered by the model (return_attention_mask = True).\n",
        "  '''\n",
        "  return tokenizer.encode_plus(\n",
        "                        input_text,\n",
        "                        add_special_tokens = True,\n",
        "                        max_length = 32,\n",
        "                        pad_to_max_length = True,\n",
        "                        return_attention_mask = True,\n",
        "                        return_tensors = 'pt'\n",
        "                   )"
      ]
    },
    {
      "cell_type": "code",
      "execution_count": null,
      "metadata": {
        "id": "UiVPzFSFTcsx"
      },
      "outputs": [],
      "source": [
        "token_id = []\n",
        "attention_masks = []\n",
        "# encode texts\n",
        "for sample in text:\n",
        "  encoding_dict = preprocessing(sample, tokenizer)\n",
        "  token_id.append(encoding_dict['input_ids'])\n",
        "  attention_masks.append(encoding_dict['attention_mask'])"
      ]
    },
    {
      "cell_type": "code",
      "execution_count": null,
      "metadata": {
        "id": "5odTvLVHe-PD"
      },
      "outputs": [],
      "source": [
        "token_id = torch.cat(token_id, dim = 0)\n",
        "attention_masks = torch.cat(attention_masks, dim = 0)\n",
        "labels = torch.tensor(labels)"
      ]
    },
    {
      "cell_type": "code",
      "execution_count": null,
      "metadata": {
        "id": "guZm4BLEm2cj"
      },
      "outputs": [],
      "source": [
        "token_id[6]"
      ]
    },
    {
      "cell_type": "code",
      "execution_count": null,
      "metadata": {
        "id": "1pb3340heWhA"
      },
      "outputs": [],
      "source": [
        "def print_rand_sentence_encoding():\n",
        "  '''Displays tokens, token IDs and attention mask of a random text sample'''\n",
        "  index = random.randint(0, len(text) - 1)\n",
        "  tokens = tokenizer.tokenize(tokenizer.decode(token_id[index]))\n",
        "  token_ids = [i.numpy() for i in token_id[index]]\n",
        "  attention = [i.numpy() for i in attention_masks[index]]\n",
        "\n",
        "  table = np.array([tokens, token_ids, attention]).T\n",
        "  print(tabulate(table,\n",
        "                 headers = ['Tokens', 'Token IDs', 'Attention Mask'],\n",
        "                 tablefmt = 'fancy_grid'))\n",
        "\n",
        "  return None\n",
        "\n",
        "print_rand_sentence_encoding()"
      ]
    },
    {
      "cell_type": "markdown",
      "metadata": {
        "id": "bH-kgoERfb1D"
      },
      "source": [
        "### Train"
      ]
    },
    {
      "cell_type": "code",
      "execution_count": null,
      "metadata": {
        "id": "R-b0Hk46ff7w"
      },
      "outputs": [],
      "source": [
        "# Recommended batch size: 16, 32. See: https://arxiv.org/pdf/1810.04805.pdf\n",
        "batch_size = 16\n",
        "val_ratio = 0.2"
      ]
    },
    {
      "cell_type": "code",
      "execution_count": null,
      "metadata": {
        "id": "GW7jCBtBfdGU"
      },
      "outputs": [],
      "source": [
        "# Indices of the train and validation splits stratified by labels\n",
        "train_idx, val_idx = train_test_split(\n",
        "    np.arange(len(labels)),\n",
        "    test_size = val_ratio,\n",
        "    shuffle = True,\n",
        "    stratify = labels)\n",
        "\n",
        "# Train and validation sets\n",
        "train_set = TensorDataset(token_id[train_idx],\n",
        "                          attention_masks[train_idx],\n",
        "                          labels[train_idx])\n",
        "\n",
        "val_set = TensorDataset(token_id[val_idx],\n",
        "                        attention_masks[val_idx],\n",
        "                        labels[val_idx])\n",
        "\n",
        "# Prepare DataLoader\n",
        "train_dataloader = DataLoader(\n",
        "            train_set,\n",
        "            sampler = RandomSampler(train_set),\n",
        "            batch_size = batch_size\n",
        "        )\n",
        "\n",
        "validation_dataloader = DataLoader(\n",
        "            val_set,\n",
        "            sampler = SequentialSampler(val_set),\n",
        "            batch_size = batch_size\n",
        "        )"
      ]
    },
    {
      "cell_type": "code",
      "execution_count": null,
      "metadata": {
        "id": "vz_MidOJfnz7"
      },
      "outputs": [],
      "source": [
        "def b_tp(preds, labels):\n",
        "  '''Returns True Positives (TP): count of correct predictions of actual class 1'''\n",
        "  return sum([preds == labels and preds == 1 for preds, labels in zip(preds, labels)])\n",
        "\n",
        "def b_fp(preds, labels):\n",
        "  '''Returns False Positives (FP): count of wrong predictions of actual class 1'''\n",
        "  return sum([preds != labels and preds == 1 for preds, labels in zip(preds, labels)])\n",
        "\n",
        "def b_tn(preds, labels):\n",
        "  '''Returns True Negatives (TN): count of correct predictions of actual class 0'''\n",
        "  return sum([preds == labels and preds == 0 for preds, labels in zip(preds, labels)])\n",
        "\n",
        "def b_fn(preds, labels):\n",
        "  '''Returns False Negatives (FN): count of wrong predictions of actual class 0'''\n",
        "  return sum([preds != labels and preds == 0 for preds, labels in zip(preds, labels)])\n",
        "\n",
        "def b_metrics(preds, labels):\n",
        "  '''\n",
        "  Returns the following metrics:\n",
        "    - accuracy    = (TP + TN) / N\n",
        "    - precision   = TP / (TP + FP)\n",
        "    - recall      = TP / (TP + FN)\n",
        "    - specificity = TN / (TN + FP)\n",
        "  '''\n",
        "  preds = np.argmax(preds, axis = 1).flatten()\n",
        "  labels = labels.flatten()\n",
        "  tp = b_tp(preds, labels)\n",
        "  tn = b_tn(preds, labels)\n",
        "  fp = b_fp(preds, labels)\n",
        "  fn = b_fn(preds, labels)\n",
        "  b_accuracy = (tp + tn) / len(labels)\n",
        "  b_precision = tp / (tp + fp) if (tp + fp) > 0 else 'nan'\n",
        "  b_recall = tp / (tp + fn) if (tp + fn) > 0 else 'nan'\n",
        "  b_specificity = tn / (tn + fp) if (tn + fp) > 0 else 'nan'\n",
        "  return b_accuracy, b_precision, b_recall, b_specificity"
      ]
    },
    {
      "cell_type": "code",
      "execution_count": null,
      "metadata": {
        "id": "5ErJc9dWhlxb"
      },
      "outputs": [],
      "source": [
        "# Load the BertForSequenceClassification model\n",
        "model = transformers.BertForSequenceClassification.from_pretrained(\n",
        "    'bert-base-uncased',\n",
        "    num_labels = 3,\n",
        "    output_attentions = False,\n",
        "    output_hidden_states = False,\n",
        ")\n",
        "\n",
        "# Recommended learning rates (Adam): 5e-5, 3e-5, 2e-5. See: https://arxiv.org/pdf/1810.04805.pdf\n",
        "optimizer = torch.optim.AdamW(model.parameters(),\n",
        "                              lr = 5e-5,\n",
        "                              eps = 1e-08\n",
        "                              )\n",
        "\n",
        "# Comment out to Run on GPU\n",
        "model.cuda()"
      ]
    },
    {
      "cell_type": "code",
      "execution_count": null,
      "metadata": {
        "id": "UAUrVSPeiVIW"
      },
      "outputs": [],
      "source": [
        "device = torch.device('cuda' if torch.cuda.is_available() else 'cpu')\n",
        "\n",
        "# Recommended number of epochs: 2, 3, 4. See: https://arxiv.org/pdf/1810.04805.pdf\n",
        "epochs = 10\n",
        "\n",
        "for _ in tqdm.trange(epochs, desc = 'Epoch'):\n",
        "\n",
        "    # ========== Training ==========\n",
        "\n",
        "    # Set model to training mode\n",
        "    model.train()\n",
        "\n",
        "    # Tracking variables\n",
        "    tr_loss = 0\n",
        "    nb_tr_examples, nb_tr_steps = 0, 0\n",
        "\n",
        "    for step, batch in enumerate(train_dataloader):\n",
        "        batch = tuple(t.to(device) for t in batch)\n",
        "        b_input_ids, b_input_mask, b_labels = batch\n",
        "        optimizer.zero_grad()\n",
        "        # Forward pass\n",
        "        train_output = model(b_input_ids,\n",
        "                             token_type_ids = None,\n",
        "                             attention_mask = b_input_mask,\n",
        "                             labels = b_labels)\n",
        "        # Backward pass\n",
        "        train_output.loss.backward()\n",
        "        optimizer.step()\n",
        "        # Update tracking variables\n",
        "        tr_loss += train_output.loss.item()\n",
        "        nb_tr_examples += b_input_ids.size(0)\n",
        "        nb_tr_steps += 1\n",
        "\n",
        "    # ========== Validation ==========\n",
        "\n",
        "    # Set model to evaluation mode\n",
        "    model.eval()\n",
        "\n",
        "    # Tracking variables\n",
        "    val_accuracy = []\n",
        "    val_precision = []\n",
        "    val_recall = []\n",
        "    val_specificity = []\n",
        "\n",
        "    for batch in validation_dataloader:\n",
        "        batch = tuple(t.to(device) for t in batch)\n",
        "        b_input_ids, b_input_mask, b_labels = batch\n",
        "        with torch.no_grad():\n",
        "          # Forward pass\n",
        "          eval_output = model(b_input_ids,\n",
        "                              token_type_ids = None,\n",
        "                              attention_mask = b_input_mask)\n",
        "        logits = eval_output.logits.detach().cpu().numpy()\n",
        "        label_ids = b_labels.to('cpu').numpy()\n",
        "        # Calculate validation metrics\n",
        "        b_accuracy, b_precision, b_recall, b_specificity = b_metrics(logits, label_ids)\n",
        "        val_accuracy.append(b_accuracy)\n",
        "        # Update precision only when (tp + fp) !=0; ignore nan\n",
        "        if b_precision != 'nan': val_precision.append(b_precision)\n",
        "        # Update recall only when (tp + fn) !=0; ignore nan\n",
        "        if b_recall != 'nan': val_recall.append(b_recall)\n",
        "        # Update specificity only when (tn + fp) !=0; ignore nan\n",
        "        if b_specificity != 'nan': val_specificity.append(b_specificity)\n",
        "\n",
        "    print('\\n\\t - Train loss: {:.4f}'.format(tr_loss / nb_tr_steps))\n",
        "    print('\\t - Validation Accuracy: {:.4f}'.format(sum(val_accuracy)/len(val_accuracy)))\n",
        "    print('\\t - Validation Precision: {:.4f}'.format(sum(val_precision)/len(val_precision)) if len(val_precision)>0 else '\\t - Validation Precision: NaN')\n",
        "    print('\\t - Validation Recall: {:.4f}'.format(sum(val_recall)/len(val_recall)) if len(val_recall)>0 else '\\t - Validation Recall: NaN')\n",
        "    print('\\t - Validation Specificity: {:.4f}\\n'.format(sum(val_specificity)/len(val_specificity)) if len(val_specificity)>0 else '\\t - Validation Specificity: NaN')"
      ]
    },
    {
      "cell_type": "markdown",
      "metadata": {
        "id": "679yep9k968z"
      },
      "source": [
        "## Prediction"
      ]
    },
    {
      "cell_type": "code",
      "execution_count": null,
      "metadata": {
        "id": "x4Jla1HT-NVs"
      },
      "outputs": [],
      "source": [
        "test_text = \"Deep Learning frameworks are already equipped with implementations of popular NLP transformers like BERT. TensorFlow and PyTorch provide a set of pre-trained models as well as intuitive APIs to ease their adoption and perform fine-tuning tasks. Moreover, AI communities like Hugging Face⁴ make possible to access large model hubs and straightforward interfaces to work with.\""
      ]
    },
    {
      "cell_type": "code",
      "execution_count": null,
      "metadata": {
        "id": "96oqfAoX-Iag"
      },
      "outputs": [],
      "source": [
        "new_sentences = sent_tokenize(test_text)"
      ]
    },
    {
      "cell_type": "code",
      "execution_count": null,
      "metadata": {
        "id": "77Z5GKc8_OyZ"
      },
      "outputs": [],
      "source": [
        "for new_sent in new_sentences:\n",
        "  test_ids = []\n",
        "  test_attention_mask = []\n",
        "\n",
        "  # Apply the tokenizer\n",
        "  encoding = preprocessing(new_sent, tokenizer)\n",
        "\n",
        "  # Extract IDs and Attention Mask\n",
        "  test_ids.append(encoding['input_ids'])\n",
        "  test_attention_mask.append(encoding['attention_mask'])\n",
        "  test_ids = torch.cat(test_ids, dim = 0)\n",
        "  test_attention_mask = torch.cat(test_attention_mask, dim = 0)\n",
        "\n",
        "  # Forward pass, calculate logit predictions\n",
        "  with torch.no_grad():\n",
        "    output = model(test_ids.to(device), token_type_ids = None, attention_mask = test_attention_mask.to(device))\n",
        "\n",
        "  predicted_class = np.argmax(output.logits.cpu().numpy()).flatten().item() == 1\n",
        "\n",
        "  if predicted_class == 0:\n",
        "    prediction = \"not paragraph start/end\"\n",
        "  elif predicted_class == 1:\n",
        "    prediction = \"paragraph start\"\n",
        "  else:\n",
        "    prediction = \"paragraph end\"\n",
        "\n",
        "  print('Input Sentence: ', new_sent)\n",
        "  print('Predicted Class: ', prediction)"
      ]
    }
  ],
  "metadata": {
    "colab": {
      "collapsed_sections": [
        "vFIiqoTuyt2b",
        "CDAs6_2ByiRO",
        "1Bc55fp6TFrE",
        "PH2hSSSPTX41"
      ],
      "provenance": []
    },
    "kernelspec": {
      "display_name": "Python 3",
      "name": "python3"
    },
    "language_info": {
      "name": "python"
    },
    "widgets": {
      "application/vnd.jupyter.widget-state+json": {
        "7b80d76083e84a5cb689b613dd57a3ee": {
          "model_module": "@jupyter-widgets/controls",
          "model_name": "HBoxModel",
          "model_module_version": "1.5.0",
          "state": {
            "_dom_classes": [],
            "_model_module": "@jupyter-widgets/controls",
            "_model_module_version": "1.5.0",
            "_model_name": "HBoxModel",
            "_view_count": null,
            "_view_module": "@jupyter-widgets/controls",
            "_view_module_version": "1.5.0",
            "_view_name": "HBoxView",
            "box_style": "",
            "children": [
              "IPY_MODEL_7c3d67c727f44c638aaaefcd6c9d6922",
              "IPY_MODEL_0b6b5804352847a195a45b55752e4b04",
              "IPY_MODEL_cf50ff7493974046aa8e41e4ca242c2e"
            ],
            "layout": "IPY_MODEL_734fe199dfe64a88a8d80a5164e2af71"
          }
        },
        "7c3d67c727f44c638aaaefcd6c9d6922": {
          "model_module": "@jupyter-widgets/controls",
          "model_name": "HTMLModel",
          "model_module_version": "1.5.0",
          "state": {
            "_dom_classes": [],
            "_model_module": "@jupyter-widgets/controls",
            "_model_module_version": "1.5.0",
            "_model_name": "HTMLModel",
            "_view_count": null,
            "_view_module": "@jupyter-widgets/controls",
            "_view_module_version": "1.5.0",
            "_view_name": "HTMLView",
            "description": "",
            "description_tooltip": null,
            "layout": "IPY_MODEL_724e0ab5d1c445938951468f3613b4b0",
            "placeholder": "​",
            "style": "IPY_MODEL_95213f507d6d48c7ae73744d3aea7979",
            "value": "Downloading builder script: 100%"
          }
        },
        "0b6b5804352847a195a45b55752e4b04": {
          "model_module": "@jupyter-widgets/controls",
          "model_name": "FloatProgressModel",
          "model_module_version": "1.5.0",
          "state": {
            "_dom_classes": [],
            "_model_module": "@jupyter-widgets/controls",
            "_model_module_version": "1.5.0",
            "_model_name": "FloatProgressModel",
            "_view_count": null,
            "_view_module": "@jupyter-widgets/controls",
            "_view_module_version": "1.5.0",
            "_view_name": "ProgressView",
            "bar_style": "success",
            "description": "",
            "description_tooltip": null,
            "layout": "IPY_MODEL_41bcd49543324260add016a7711a4617",
            "max": 35871,
            "min": 0,
            "orientation": "horizontal",
            "style": "IPY_MODEL_550d557db42d4800acc56a1aac2e525b",
            "value": 35871
          }
        },
        "cf50ff7493974046aa8e41e4ca242c2e": {
          "model_module": "@jupyter-widgets/controls",
          "model_name": "HTMLModel",
          "model_module_version": "1.5.0",
          "state": {
            "_dom_classes": [],
            "_model_module": "@jupyter-widgets/controls",
            "_model_module_version": "1.5.0",
            "_model_name": "HTMLModel",
            "_view_count": null,
            "_view_module": "@jupyter-widgets/controls",
            "_view_module_version": "1.5.0",
            "_view_name": "HTMLView",
            "description": "",
            "description_tooltip": null,
            "layout": "IPY_MODEL_7687fdd4dc904af1b8a6c5757ee0da67",
            "placeholder": "​",
            "style": "IPY_MODEL_386183bed8814c049423a5a0fe1881f5",
            "value": " 35.9k/35.9k [00:00&lt;00:00, 1.54MB/s]"
          }
        },
        "734fe199dfe64a88a8d80a5164e2af71": {
          "model_module": "@jupyter-widgets/base",
          "model_name": "LayoutModel",
          "model_module_version": "1.2.0",
          "state": {
            "_model_module": "@jupyter-widgets/base",
            "_model_module_version": "1.2.0",
            "_model_name": "LayoutModel",
            "_view_count": null,
            "_view_module": "@jupyter-widgets/base",
            "_view_module_version": "1.2.0",
            "_view_name": "LayoutView",
            "align_content": null,
            "align_items": null,
            "align_self": null,
            "border": null,
            "bottom": null,
            "display": null,
            "flex": null,
            "flex_flow": null,
            "grid_area": null,
            "grid_auto_columns": null,
            "grid_auto_flow": null,
            "grid_auto_rows": null,
            "grid_column": null,
            "grid_gap": null,
            "grid_row": null,
            "grid_template_areas": null,
            "grid_template_columns": null,
            "grid_template_rows": null,
            "height": null,
            "justify_content": null,
            "justify_items": null,
            "left": null,
            "margin": null,
            "max_height": null,
            "max_width": null,
            "min_height": null,
            "min_width": null,
            "object_fit": null,
            "object_position": null,
            "order": null,
            "overflow": null,
            "overflow_x": null,
            "overflow_y": null,
            "padding": null,
            "right": null,
            "top": null,
            "visibility": null,
            "width": null
          }
        },
        "724e0ab5d1c445938951468f3613b4b0": {
          "model_module": "@jupyter-widgets/base",
          "model_name": "LayoutModel",
          "model_module_version": "1.2.0",
          "state": {
            "_model_module": "@jupyter-widgets/base",
            "_model_module_version": "1.2.0",
            "_model_name": "LayoutModel",
            "_view_count": null,
            "_view_module": "@jupyter-widgets/base",
            "_view_module_version": "1.2.0",
            "_view_name": "LayoutView",
            "align_content": null,
            "align_items": null,
            "align_self": null,
            "border": null,
            "bottom": null,
            "display": null,
            "flex": null,
            "flex_flow": null,
            "grid_area": null,
            "grid_auto_columns": null,
            "grid_auto_flow": null,
            "grid_auto_rows": null,
            "grid_column": null,
            "grid_gap": null,
            "grid_row": null,
            "grid_template_areas": null,
            "grid_template_columns": null,
            "grid_template_rows": null,
            "height": null,
            "justify_content": null,
            "justify_items": null,
            "left": null,
            "margin": null,
            "max_height": null,
            "max_width": null,
            "min_height": null,
            "min_width": null,
            "object_fit": null,
            "object_position": null,
            "order": null,
            "overflow": null,
            "overflow_x": null,
            "overflow_y": null,
            "padding": null,
            "right": null,
            "top": null,
            "visibility": null,
            "width": null
          }
        },
        "95213f507d6d48c7ae73744d3aea7979": {
          "model_module": "@jupyter-widgets/controls",
          "model_name": "DescriptionStyleModel",
          "model_module_version": "1.5.0",
          "state": {
            "_model_module": "@jupyter-widgets/controls",
            "_model_module_version": "1.5.0",
            "_model_name": "DescriptionStyleModel",
            "_view_count": null,
            "_view_module": "@jupyter-widgets/base",
            "_view_module_version": "1.2.0",
            "_view_name": "StyleView",
            "description_width": ""
          }
        },
        "41bcd49543324260add016a7711a4617": {
          "model_module": "@jupyter-widgets/base",
          "model_name": "LayoutModel",
          "model_module_version": "1.2.0",
          "state": {
            "_model_module": "@jupyter-widgets/base",
            "_model_module_version": "1.2.0",
            "_model_name": "LayoutModel",
            "_view_count": null,
            "_view_module": "@jupyter-widgets/base",
            "_view_module_version": "1.2.0",
            "_view_name": "LayoutView",
            "align_content": null,
            "align_items": null,
            "align_self": null,
            "border": null,
            "bottom": null,
            "display": null,
            "flex": null,
            "flex_flow": null,
            "grid_area": null,
            "grid_auto_columns": null,
            "grid_auto_flow": null,
            "grid_auto_rows": null,
            "grid_column": null,
            "grid_gap": null,
            "grid_row": null,
            "grid_template_areas": null,
            "grid_template_columns": null,
            "grid_template_rows": null,
            "height": null,
            "justify_content": null,
            "justify_items": null,
            "left": null,
            "margin": null,
            "max_height": null,
            "max_width": null,
            "min_height": null,
            "min_width": null,
            "object_fit": null,
            "object_position": null,
            "order": null,
            "overflow": null,
            "overflow_x": null,
            "overflow_y": null,
            "padding": null,
            "right": null,
            "top": null,
            "visibility": null,
            "width": null
          }
        },
        "550d557db42d4800acc56a1aac2e525b": {
          "model_module": "@jupyter-widgets/controls",
          "model_name": "ProgressStyleModel",
          "model_module_version": "1.5.0",
          "state": {
            "_model_module": "@jupyter-widgets/controls",
            "_model_module_version": "1.5.0",
            "_model_name": "ProgressStyleModel",
            "_view_count": null,
            "_view_module": "@jupyter-widgets/base",
            "_view_module_version": "1.2.0",
            "_view_name": "StyleView",
            "bar_color": null,
            "description_width": ""
          }
        },
        "7687fdd4dc904af1b8a6c5757ee0da67": {
          "model_module": "@jupyter-widgets/base",
          "model_name": "LayoutModel",
          "model_module_version": "1.2.0",
          "state": {
            "_model_module": "@jupyter-widgets/base",
            "_model_module_version": "1.2.0",
            "_model_name": "LayoutModel",
            "_view_count": null,
            "_view_module": "@jupyter-widgets/base",
            "_view_module_version": "1.2.0",
            "_view_name": "LayoutView",
            "align_content": null,
            "align_items": null,
            "align_self": null,
            "border": null,
            "bottom": null,
            "display": null,
            "flex": null,
            "flex_flow": null,
            "grid_area": null,
            "grid_auto_columns": null,
            "grid_auto_flow": null,
            "grid_auto_rows": null,
            "grid_column": null,
            "grid_gap": null,
            "grid_row": null,
            "grid_template_areas": null,
            "grid_template_columns": null,
            "grid_template_rows": null,
            "height": null,
            "justify_content": null,
            "justify_items": null,
            "left": null,
            "margin": null,
            "max_height": null,
            "max_width": null,
            "min_height": null,
            "min_width": null,
            "object_fit": null,
            "object_position": null,
            "order": null,
            "overflow": null,
            "overflow_x": null,
            "overflow_y": null,
            "padding": null,
            "right": null,
            "top": null,
            "visibility": null,
            "width": null
          }
        },
        "386183bed8814c049423a5a0fe1881f5": {
          "model_module": "@jupyter-widgets/controls",
          "model_name": "DescriptionStyleModel",
          "model_module_version": "1.5.0",
          "state": {
            "_model_module": "@jupyter-widgets/controls",
            "_model_module_version": "1.5.0",
            "_model_name": "DescriptionStyleModel",
            "_view_count": null,
            "_view_module": "@jupyter-widgets/base",
            "_view_module_version": "1.2.0",
            "_view_name": "StyleView",
            "description_width": ""
          }
        },
        "839a19bd30c14a8fa3c292aa93ba3bd1": {
          "model_module": "@jupyter-widgets/controls",
          "model_name": "HBoxModel",
          "model_module_version": "1.5.0",
          "state": {
            "_dom_classes": [],
            "_model_module": "@jupyter-widgets/controls",
            "_model_module_version": "1.5.0",
            "_model_name": "HBoxModel",
            "_view_count": null,
            "_view_module": "@jupyter-widgets/controls",
            "_view_module_version": "1.5.0",
            "_view_name": "HBoxView",
            "box_style": "",
            "children": [
              "IPY_MODEL_cdc43ce4545641edae369d763d28fa03",
              "IPY_MODEL_0971e23dca094c61a1df929764bf6740",
              "IPY_MODEL_bdb48d94c7b440cfad274c4dbb74740a"
            ],
            "layout": "IPY_MODEL_176437751bae4f93ad23225c76dc4cec"
          }
        },
        "cdc43ce4545641edae369d763d28fa03": {
          "model_module": "@jupyter-widgets/controls",
          "model_name": "HTMLModel",
          "model_module_version": "1.5.0",
          "state": {
            "_dom_classes": [],
            "_model_module": "@jupyter-widgets/controls",
            "_model_module_version": "1.5.0",
            "_model_name": "HTMLModel",
            "_view_count": null,
            "_view_module": "@jupyter-widgets/controls",
            "_view_module_version": "1.5.0",
            "_view_name": "HTMLView",
            "description": "",
            "description_tooltip": null,
            "layout": "IPY_MODEL_0b1deda8540340f2bee316e82de280ce",
            "placeholder": "​",
            "style": "IPY_MODEL_9fbf723629f144aca5ba368d0a4ddd70",
            "value": "Downloading metadata: 100%"
          }
        },
        "0971e23dca094c61a1df929764bf6740": {
          "model_module": "@jupyter-widgets/controls",
          "model_name": "FloatProgressModel",
          "model_module_version": "1.5.0",
          "state": {
            "_dom_classes": [],
            "_model_module": "@jupyter-widgets/controls",
            "_model_module_version": "1.5.0",
            "_model_name": "FloatProgressModel",
            "_view_count": null,
            "_view_module": "@jupyter-widgets/controls",
            "_view_module_version": "1.5.0",
            "_view_name": "ProgressView",
            "bar_style": "success",
            "description": "",
            "description_tooltip": null,
            "layout": "IPY_MODEL_85eab56bc7df4c7185297cad313e9374",
            "max": 30394,
            "min": 0,
            "orientation": "horizontal",
            "style": "IPY_MODEL_a47e9de7101b4ef8b857ca938fab9e36",
            "value": 30394
          }
        },
        "bdb48d94c7b440cfad274c4dbb74740a": {
          "model_module": "@jupyter-widgets/controls",
          "model_name": "HTMLModel",
          "model_module_version": "1.5.0",
          "state": {
            "_dom_classes": [],
            "_model_module": "@jupyter-widgets/controls",
            "_model_module_version": "1.5.0",
            "_model_name": "HTMLModel",
            "_view_count": null,
            "_view_module": "@jupyter-widgets/controls",
            "_view_module_version": "1.5.0",
            "_view_name": "HTMLView",
            "description": "",
            "description_tooltip": null,
            "layout": "IPY_MODEL_52a96b8e5b5d4d3c8a805fa16a28d677",
            "placeholder": "​",
            "style": "IPY_MODEL_28791eb8d3ff49c5b1956da9c2615349",
            "value": " 30.4k/30.4k [00:00&lt;00:00, 1.30MB/s]"
          }
        },
        "176437751bae4f93ad23225c76dc4cec": {
          "model_module": "@jupyter-widgets/base",
          "model_name": "LayoutModel",
          "model_module_version": "1.2.0",
          "state": {
            "_model_module": "@jupyter-widgets/base",
            "_model_module_version": "1.2.0",
            "_model_name": "LayoutModel",
            "_view_count": null,
            "_view_module": "@jupyter-widgets/base",
            "_view_module_version": "1.2.0",
            "_view_name": "LayoutView",
            "align_content": null,
            "align_items": null,
            "align_self": null,
            "border": null,
            "bottom": null,
            "display": null,
            "flex": null,
            "flex_flow": null,
            "grid_area": null,
            "grid_auto_columns": null,
            "grid_auto_flow": null,
            "grid_auto_rows": null,
            "grid_column": null,
            "grid_gap": null,
            "grid_row": null,
            "grid_template_areas": null,
            "grid_template_columns": null,
            "grid_template_rows": null,
            "height": null,
            "justify_content": null,
            "justify_items": null,
            "left": null,
            "margin": null,
            "max_height": null,
            "max_width": null,
            "min_height": null,
            "min_width": null,
            "object_fit": null,
            "object_position": null,
            "order": null,
            "overflow": null,
            "overflow_x": null,
            "overflow_y": null,
            "padding": null,
            "right": null,
            "top": null,
            "visibility": null,
            "width": null
          }
        },
        "0b1deda8540340f2bee316e82de280ce": {
          "model_module": "@jupyter-widgets/base",
          "model_name": "LayoutModel",
          "model_module_version": "1.2.0",
          "state": {
            "_model_module": "@jupyter-widgets/base",
            "_model_module_version": "1.2.0",
            "_model_name": "LayoutModel",
            "_view_count": null,
            "_view_module": "@jupyter-widgets/base",
            "_view_module_version": "1.2.0",
            "_view_name": "LayoutView",
            "align_content": null,
            "align_items": null,
            "align_self": null,
            "border": null,
            "bottom": null,
            "display": null,
            "flex": null,
            "flex_flow": null,
            "grid_area": null,
            "grid_auto_columns": null,
            "grid_auto_flow": null,
            "grid_auto_rows": null,
            "grid_column": null,
            "grid_gap": null,
            "grid_row": null,
            "grid_template_areas": null,
            "grid_template_columns": null,
            "grid_template_rows": null,
            "height": null,
            "justify_content": null,
            "justify_items": null,
            "left": null,
            "margin": null,
            "max_height": null,
            "max_width": null,
            "min_height": null,
            "min_width": null,
            "object_fit": null,
            "object_position": null,
            "order": null,
            "overflow": null,
            "overflow_x": null,
            "overflow_y": null,
            "padding": null,
            "right": null,
            "top": null,
            "visibility": null,
            "width": null
          }
        },
        "9fbf723629f144aca5ba368d0a4ddd70": {
          "model_module": "@jupyter-widgets/controls",
          "model_name": "DescriptionStyleModel",
          "model_module_version": "1.5.0",
          "state": {
            "_model_module": "@jupyter-widgets/controls",
            "_model_module_version": "1.5.0",
            "_model_name": "DescriptionStyleModel",
            "_view_count": null,
            "_view_module": "@jupyter-widgets/base",
            "_view_module_version": "1.2.0",
            "_view_name": "StyleView",
            "description_width": ""
          }
        },
        "85eab56bc7df4c7185297cad313e9374": {
          "model_module": "@jupyter-widgets/base",
          "model_name": "LayoutModel",
          "model_module_version": "1.2.0",
          "state": {
            "_model_module": "@jupyter-widgets/base",
            "_model_module_version": "1.2.0",
            "_model_name": "LayoutModel",
            "_view_count": null,
            "_view_module": "@jupyter-widgets/base",
            "_view_module_version": "1.2.0",
            "_view_name": "LayoutView",
            "align_content": null,
            "align_items": null,
            "align_self": null,
            "border": null,
            "bottom": null,
            "display": null,
            "flex": null,
            "flex_flow": null,
            "grid_area": null,
            "grid_auto_columns": null,
            "grid_auto_flow": null,
            "grid_auto_rows": null,
            "grid_column": null,
            "grid_gap": null,
            "grid_row": null,
            "grid_template_areas": null,
            "grid_template_columns": null,
            "grid_template_rows": null,
            "height": null,
            "justify_content": null,
            "justify_items": null,
            "left": null,
            "margin": null,
            "max_height": null,
            "max_width": null,
            "min_height": null,
            "min_width": null,
            "object_fit": null,
            "object_position": null,
            "order": null,
            "overflow": null,
            "overflow_x": null,
            "overflow_y": null,
            "padding": null,
            "right": null,
            "top": null,
            "visibility": null,
            "width": null
          }
        },
        "a47e9de7101b4ef8b857ca938fab9e36": {
          "model_module": "@jupyter-widgets/controls",
          "model_name": "ProgressStyleModel",
          "model_module_version": "1.5.0",
          "state": {
            "_model_module": "@jupyter-widgets/controls",
            "_model_module_version": "1.5.0",
            "_model_name": "ProgressStyleModel",
            "_view_count": null,
            "_view_module": "@jupyter-widgets/base",
            "_view_module_version": "1.2.0",
            "_view_name": "StyleView",
            "bar_color": null,
            "description_width": ""
          }
        },
        "52a96b8e5b5d4d3c8a805fa16a28d677": {
          "model_module": "@jupyter-widgets/base",
          "model_name": "LayoutModel",
          "model_module_version": "1.2.0",
          "state": {
            "_model_module": "@jupyter-widgets/base",
            "_model_module_version": "1.2.0",
            "_model_name": "LayoutModel",
            "_view_count": null,
            "_view_module": "@jupyter-widgets/base",
            "_view_module_version": "1.2.0",
            "_view_name": "LayoutView",
            "align_content": null,
            "align_items": null,
            "align_self": null,
            "border": null,
            "bottom": null,
            "display": null,
            "flex": null,
            "flex_flow": null,
            "grid_area": null,
            "grid_auto_columns": null,
            "grid_auto_flow": null,
            "grid_auto_rows": null,
            "grid_column": null,
            "grid_gap": null,
            "grid_row": null,
            "grid_template_areas": null,
            "grid_template_columns": null,
            "grid_template_rows": null,
            "height": null,
            "justify_content": null,
            "justify_items": null,
            "left": null,
            "margin": null,
            "max_height": null,
            "max_width": null,
            "min_height": null,
            "min_width": null,
            "object_fit": null,
            "object_position": null,
            "order": null,
            "overflow": null,
            "overflow_x": null,
            "overflow_y": null,
            "padding": null,
            "right": null,
            "top": null,
            "visibility": null,
            "width": null
          }
        },
        "28791eb8d3ff49c5b1956da9c2615349": {
          "model_module": "@jupyter-widgets/controls",
          "model_name": "DescriptionStyleModel",
          "model_module_version": "1.5.0",
          "state": {
            "_model_module": "@jupyter-widgets/controls",
            "_model_module_version": "1.5.0",
            "_model_name": "DescriptionStyleModel",
            "_view_count": null,
            "_view_module": "@jupyter-widgets/base",
            "_view_module_version": "1.2.0",
            "_view_name": "StyleView",
            "description_width": ""
          }
        },
        "942fc5e1e1c84597806b85e017d9f1c7": {
          "model_module": "@jupyter-widgets/controls",
          "model_name": "HBoxModel",
          "model_module_version": "1.5.0",
          "state": {
            "_dom_classes": [],
            "_model_module": "@jupyter-widgets/controls",
            "_model_module_version": "1.5.0",
            "_model_name": "HBoxModel",
            "_view_count": null,
            "_view_module": "@jupyter-widgets/controls",
            "_view_module_version": "1.5.0",
            "_view_name": "HBoxView",
            "box_style": "",
            "children": [
              "IPY_MODEL_92ff8db1b97441ab800b5c6bd1f313d2",
              "IPY_MODEL_7e918c501b8d48609df8206c35889fe2",
              "IPY_MODEL_ef6822c4a8694df2a8b8986dd5d688c7"
            ],
            "layout": "IPY_MODEL_7dfd7530d1154bc1bb20471c8a32999b"
          }
        },
        "92ff8db1b97441ab800b5c6bd1f313d2": {
          "model_module": "@jupyter-widgets/controls",
          "model_name": "HTMLModel",
          "model_module_version": "1.5.0",
          "state": {
            "_dom_classes": [],
            "_model_module": "@jupyter-widgets/controls",
            "_model_module_version": "1.5.0",
            "_model_name": "HTMLModel",
            "_view_count": null,
            "_view_module": "@jupyter-widgets/controls",
            "_view_module_version": "1.5.0",
            "_view_name": "HTMLView",
            "description": "",
            "description_tooltip": null,
            "layout": "IPY_MODEL_445418047f1f49cc9c592bf81de54d06",
            "placeholder": "​",
            "style": "IPY_MODEL_2b1f218f938c4b3e9489de30531b3619",
            "value": "Downloading readme: 100%"
          }
        },
        "7e918c501b8d48609df8206c35889fe2": {
          "model_module": "@jupyter-widgets/controls",
          "model_name": "FloatProgressModel",
          "model_module_version": "1.5.0",
          "state": {
            "_dom_classes": [],
            "_model_module": "@jupyter-widgets/controls",
            "_model_module_version": "1.5.0",
            "_model_name": "FloatProgressModel",
            "_view_count": null,
            "_view_module": "@jupyter-widgets/controls",
            "_view_module_version": "1.5.0",
            "_view_name": "ProgressView",
            "bar_style": "success",
            "description": "",
            "description_tooltip": null,
            "layout": "IPY_MODEL_a6d4f614b6134666bc09e8bf6c6d7a03",
            "max": 16258,
            "min": 0,
            "orientation": "horizontal",
            "style": "IPY_MODEL_15bfb41d5e084a4090921b8e6df0e54e",
            "value": 16258
          }
        },
        "ef6822c4a8694df2a8b8986dd5d688c7": {
          "model_module": "@jupyter-widgets/controls",
          "model_name": "HTMLModel",
          "model_module_version": "1.5.0",
          "state": {
            "_dom_classes": [],
            "_model_module": "@jupyter-widgets/controls",
            "_model_module_version": "1.5.0",
            "_model_name": "HTMLModel",
            "_view_count": null,
            "_view_module": "@jupyter-widgets/controls",
            "_view_module_version": "1.5.0",
            "_view_name": "HTMLView",
            "description": "",
            "description_tooltip": null,
            "layout": "IPY_MODEL_c12648f5d9d242a187a1bf706350a2a3",
            "placeholder": "​",
            "style": "IPY_MODEL_a99d4f2bb88b482dae2c8b87a44ff0e6",
            "value": " 16.3k/16.3k [00:00&lt;00:00, 568kB/s]"
          }
        },
        "7dfd7530d1154bc1bb20471c8a32999b": {
          "model_module": "@jupyter-widgets/base",
          "model_name": "LayoutModel",
          "model_module_version": "1.2.0",
          "state": {
            "_model_module": "@jupyter-widgets/base",
            "_model_module_version": "1.2.0",
            "_model_name": "LayoutModel",
            "_view_count": null,
            "_view_module": "@jupyter-widgets/base",
            "_view_module_version": "1.2.0",
            "_view_name": "LayoutView",
            "align_content": null,
            "align_items": null,
            "align_self": null,
            "border": null,
            "bottom": null,
            "display": null,
            "flex": null,
            "flex_flow": null,
            "grid_area": null,
            "grid_auto_columns": null,
            "grid_auto_flow": null,
            "grid_auto_rows": null,
            "grid_column": null,
            "grid_gap": null,
            "grid_row": null,
            "grid_template_areas": null,
            "grid_template_columns": null,
            "grid_template_rows": null,
            "height": null,
            "justify_content": null,
            "justify_items": null,
            "left": null,
            "margin": null,
            "max_height": null,
            "max_width": null,
            "min_height": null,
            "min_width": null,
            "object_fit": null,
            "object_position": null,
            "order": null,
            "overflow": null,
            "overflow_x": null,
            "overflow_y": null,
            "padding": null,
            "right": null,
            "top": null,
            "visibility": null,
            "width": null
          }
        },
        "445418047f1f49cc9c592bf81de54d06": {
          "model_module": "@jupyter-widgets/base",
          "model_name": "LayoutModel",
          "model_module_version": "1.2.0",
          "state": {
            "_model_module": "@jupyter-widgets/base",
            "_model_module_version": "1.2.0",
            "_model_name": "LayoutModel",
            "_view_count": null,
            "_view_module": "@jupyter-widgets/base",
            "_view_module_version": "1.2.0",
            "_view_name": "LayoutView",
            "align_content": null,
            "align_items": null,
            "align_self": null,
            "border": null,
            "bottom": null,
            "display": null,
            "flex": null,
            "flex_flow": null,
            "grid_area": null,
            "grid_auto_columns": null,
            "grid_auto_flow": null,
            "grid_auto_rows": null,
            "grid_column": null,
            "grid_gap": null,
            "grid_row": null,
            "grid_template_areas": null,
            "grid_template_columns": null,
            "grid_template_rows": null,
            "height": null,
            "justify_content": null,
            "justify_items": null,
            "left": null,
            "margin": null,
            "max_height": null,
            "max_width": null,
            "min_height": null,
            "min_width": null,
            "object_fit": null,
            "object_position": null,
            "order": null,
            "overflow": null,
            "overflow_x": null,
            "overflow_y": null,
            "padding": null,
            "right": null,
            "top": null,
            "visibility": null,
            "width": null
          }
        },
        "2b1f218f938c4b3e9489de30531b3619": {
          "model_module": "@jupyter-widgets/controls",
          "model_name": "DescriptionStyleModel",
          "model_module_version": "1.5.0",
          "state": {
            "_model_module": "@jupyter-widgets/controls",
            "_model_module_version": "1.5.0",
            "_model_name": "DescriptionStyleModel",
            "_view_count": null,
            "_view_module": "@jupyter-widgets/base",
            "_view_module_version": "1.2.0",
            "_view_name": "StyleView",
            "description_width": ""
          }
        },
        "a6d4f614b6134666bc09e8bf6c6d7a03": {
          "model_module": "@jupyter-widgets/base",
          "model_name": "LayoutModel",
          "model_module_version": "1.2.0",
          "state": {
            "_model_module": "@jupyter-widgets/base",
            "_model_module_version": "1.2.0",
            "_model_name": "LayoutModel",
            "_view_count": null,
            "_view_module": "@jupyter-widgets/base",
            "_view_module_version": "1.2.0",
            "_view_name": "LayoutView",
            "align_content": null,
            "align_items": null,
            "align_self": null,
            "border": null,
            "bottom": null,
            "display": null,
            "flex": null,
            "flex_flow": null,
            "grid_area": null,
            "grid_auto_columns": null,
            "grid_auto_flow": null,
            "grid_auto_rows": null,
            "grid_column": null,
            "grid_gap": null,
            "grid_row": null,
            "grid_template_areas": null,
            "grid_template_columns": null,
            "grid_template_rows": null,
            "height": null,
            "justify_content": null,
            "justify_items": null,
            "left": null,
            "margin": null,
            "max_height": null,
            "max_width": null,
            "min_height": null,
            "min_width": null,
            "object_fit": null,
            "object_position": null,
            "order": null,
            "overflow": null,
            "overflow_x": null,
            "overflow_y": null,
            "padding": null,
            "right": null,
            "top": null,
            "visibility": null,
            "width": null
          }
        },
        "15bfb41d5e084a4090921b8e6df0e54e": {
          "model_module": "@jupyter-widgets/controls",
          "model_name": "ProgressStyleModel",
          "model_module_version": "1.5.0",
          "state": {
            "_model_module": "@jupyter-widgets/controls",
            "_model_module_version": "1.5.0",
            "_model_name": "ProgressStyleModel",
            "_view_count": null,
            "_view_module": "@jupyter-widgets/base",
            "_view_module_version": "1.2.0",
            "_view_name": "StyleView",
            "bar_color": null,
            "description_width": ""
          }
        },
        "c12648f5d9d242a187a1bf706350a2a3": {
          "model_module": "@jupyter-widgets/base",
          "model_name": "LayoutModel",
          "model_module_version": "1.2.0",
          "state": {
            "_model_module": "@jupyter-widgets/base",
            "_model_module_version": "1.2.0",
            "_model_name": "LayoutModel",
            "_view_count": null,
            "_view_module": "@jupyter-widgets/base",
            "_view_module_version": "1.2.0",
            "_view_name": "LayoutView",
            "align_content": null,
            "align_items": null,
            "align_self": null,
            "border": null,
            "bottom": null,
            "display": null,
            "flex": null,
            "flex_flow": null,
            "grid_area": null,
            "grid_auto_columns": null,
            "grid_auto_flow": null,
            "grid_auto_rows": null,
            "grid_column": null,
            "grid_gap": null,
            "grid_row": null,
            "grid_template_areas": null,
            "grid_template_columns": null,
            "grid_template_rows": null,
            "height": null,
            "justify_content": null,
            "justify_items": null,
            "left": null,
            "margin": null,
            "max_height": null,
            "max_width": null,
            "min_height": null,
            "min_width": null,
            "object_fit": null,
            "object_position": null,
            "order": null,
            "overflow": null,
            "overflow_x": null,
            "overflow_y": null,
            "padding": null,
            "right": null,
            "top": null,
            "visibility": null,
            "width": null
          }
        },
        "a99d4f2bb88b482dae2c8b87a44ff0e6": {
          "model_module": "@jupyter-widgets/controls",
          "model_name": "DescriptionStyleModel",
          "model_module_version": "1.5.0",
          "state": {
            "_model_module": "@jupyter-widgets/controls",
            "_model_module_version": "1.5.0",
            "_model_name": "DescriptionStyleModel",
            "_view_count": null,
            "_view_module": "@jupyter-widgets/base",
            "_view_module_version": "1.2.0",
            "_view_name": "StyleView",
            "description_width": ""
          }
        },
        "0dd7bb25adc7442a9409eeac0cce5ea0": {
          "model_module": "@jupyter-widgets/controls",
          "model_name": "HBoxModel",
          "model_module_version": "1.5.0",
          "state": {
            "_dom_classes": [],
            "_model_module": "@jupyter-widgets/controls",
            "_model_module_version": "1.5.0",
            "_model_name": "HBoxModel",
            "_view_count": null,
            "_view_module": "@jupyter-widgets/controls",
            "_view_module_version": "1.5.0",
            "_view_name": "HBoxView",
            "box_style": "",
            "children": [
              "IPY_MODEL_8e770deb24a34fc0b9eddfc827d0cabd",
              "IPY_MODEL_dcb6221027ce44908d55fe015622b5da",
              "IPY_MODEL_1bd836ec26c545ff8a6a8cb0d039cc8d"
            ],
            "layout": "IPY_MODEL_3ea1e330e98f4441b60806f665c9b369"
          }
        },
        "8e770deb24a34fc0b9eddfc827d0cabd": {
          "model_module": "@jupyter-widgets/controls",
          "model_name": "HTMLModel",
          "model_module_version": "1.5.0",
          "state": {
            "_dom_classes": [],
            "_model_module": "@jupyter-widgets/controls",
            "_model_module_version": "1.5.0",
            "_model_name": "HTMLModel",
            "_view_count": null,
            "_view_module": "@jupyter-widgets/controls",
            "_view_module_version": "1.5.0",
            "_view_name": "HTMLView",
            "description": "",
            "description_tooltip": null,
            "layout": "IPY_MODEL_2d2836918a34428cb410fca1e0f441b1",
            "placeholder": "​",
            "style": "IPY_MODEL_bdb46ef3ad604e51a210c5313cd74172",
            "value": "Downloading: 100%"
          }
        },
        "dcb6221027ce44908d55fe015622b5da": {
          "model_module": "@jupyter-widgets/controls",
          "model_name": "FloatProgressModel",
          "model_module_version": "1.5.0",
          "state": {
            "_dom_classes": [],
            "_model_module": "@jupyter-widgets/controls",
            "_model_module_version": "1.5.0",
            "_model_name": "FloatProgressModel",
            "_view_count": null,
            "_view_module": "@jupyter-widgets/controls",
            "_view_module_version": "1.5.0",
            "_view_name": "ProgressView",
            "bar_style": "success",
            "description": "",
            "description_tooltip": null,
            "layout": "IPY_MODEL_a9af0dce12374b37afb5ab6f898eb2cd",
            "max": 15337,
            "min": 0,
            "orientation": "horizontal",
            "style": "IPY_MODEL_4c433205720041ebb23f379435814702",
            "value": 15337
          }
        },
        "1bd836ec26c545ff8a6a8cb0d039cc8d": {
          "model_module": "@jupyter-widgets/controls",
          "model_name": "HTMLModel",
          "model_module_version": "1.5.0",
          "state": {
            "_dom_classes": [],
            "_model_module": "@jupyter-widgets/controls",
            "_model_module_version": "1.5.0",
            "_model_name": "HTMLModel",
            "_view_count": null,
            "_view_module": "@jupyter-widgets/controls",
            "_view_module_version": "1.5.0",
            "_view_name": "HTMLView",
            "description": "",
            "description_tooltip": null,
            "layout": "IPY_MODEL_1b4e36fe71e143559fca003b39e47b82",
            "placeholder": "​",
            "style": "IPY_MODEL_47dd40f2cf40433880ce93fbb5e5edb8",
            "value": " 15.3k/15.3k [00:00&lt;00:00, 551kB/s]"
          }
        },
        "3ea1e330e98f4441b60806f665c9b369": {
          "model_module": "@jupyter-widgets/base",
          "model_name": "LayoutModel",
          "model_module_version": "1.2.0",
          "state": {
            "_model_module": "@jupyter-widgets/base",
            "_model_module_version": "1.2.0",
            "_model_name": "LayoutModel",
            "_view_count": null,
            "_view_module": "@jupyter-widgets/base",
            "_view_module_version": "1.2.0",
            "_view_name": "LayoutView",
            "align_content": null,
            "align_items": null,
            "align_self": null,
            "border": null,
            "bottom": null,
            "display": null,
            "flex": null,
            "flex_flow": null,
            "grid_area": null,
            "grid_auto_columns": null,
            "grid_auto_flow": null,
            "grid_auto_rows": null,
            "grid_column": null,
            "grid_gap": null,
            "grid_row": null,
            "grid_template_areas": null,
            "grid_template_columns": null,
            "grid_template_rows": null,
            "height": null,
            "justify_content": null,
            "justify_items": null,
            "left": null,
            "margin": null,
            "max_height": null,
            "max_width": null,
            "min_height": null,
            "min_width": null,
            "object_fit": null,
            "object_position": null,
            "order": null,
            "overflow": null,
            "overflow_x": null,
            "overflow_y": null,
            "padding": null,
            "right": null,
            "top": null,
            "visibility": null,
            "width": null
          }
        },
        "2d2836918a34428cb410fca1e0f441b1": {
          "model_module": "@jupyter-widgets/base",
          "model_name": "LayoutModel",
          "model_module_version": "1.2.0",
          "state": {
            "_model_module": "@jupyter-widgets/base",
            "_model_module_version": "1.2.0",
            "_model_name": "LayoutModel",
            "_view_count": null,
            "_view_module": "@jupyter-widgets/base",
            "_view_module_version": "1.2.0",
            "_view_name": "LayoutView",
            "align_content": null,
            "align_items": null,
            "align_self": null,
            "border": null,
            "bottom": null,
            "display": null,
            "flex": null,
            "flex_flow": null,
            "grid_area": null,
            "grid_auto_columns": null,
            "grid_auto_flow": null,
            "grid_auto_rows": null,
            "grid_column": null,
            "grid_gap": null,
            "grid_row": null,
            "grid_template_areas": null,
            "grid_template_columns": null,
            "grid_template_rows": null,
            "height": null,
            "justify_content": null,
            "justify_items": null,
            "left": null,
            "margin": null,
            "max_height": null,
            "max_width": null,
            "min_height": null,
            "min_width": null,
            "object_fit": null,
            "object_position": null,
            "order": null,
            "overflow": null,
            "overflow_x": null,
            "overflow_y": null,
            "padding": null,
            "right": null,
            "top": null,
            "visibility": null,
            "width": null
          }
        },
        "bdb46ef3ad604e51a210c5313cd74172": {
          "model_module": "@jupyter-widgets/controls",
          "model_name": "DescriptionStyleModel",
          "model_module_version": "1.5.0",
          "state": {
            "_model_module": "@jupyter-widgets/controls",
            "_model_module_version": "1.5.0",
            "_model_name": "DescriptionStyleModel",
            "_view_count": null,
            "_view_module": "@jupyter-widgets/base",
            "_view_module_version": "1.2.0",
            "_view_name": "StyleView",
            "description_width": ""
          }
        },
        "a9af0dce12374b37afb5ab6f898eb2cd": {
          "model_module": "@jupyter-widgets/base",
          "model_name": "LayoutModel",
          "model_module_version": "1.2.0",
          "state": {
            "_model_module": "@jupyter-widgets/base",
            "_model_module_version": "1.2.0",
            "_model_name": "LayoutModel",
            "_view_count": null,
            "_view_module": "@jupyter-widgets/base",
            "_view_module_version": "1.2.0",
            "_view_name": "LayoutView",
            "align_content": null,
            "align_items": null,
            "align_self": null,
            "border": null,
            "bottom": null,
            "display": null,
            "flex": null,
            "flex_flow": null,
            "grid_area": null,
            "grid_auto_columns": null,
            "grid_auto_flow": null,
            "grid_auto_rows": null,
            "grid_column": null,
            "grid_gap": null,
            "grid_row": null,
            "grid_template_areas": null,
            "grid_template_columns": null,
            "grid_template_rows": null,
            "height": null,
            "justify_content": null,
            "justify_items": null,
            "left": null,
            "margin": null,
            "max_height": null,
            "max_width": null,
            "min_height": null,
            "min_width": null,
            "object_fit": null,
            "object_position": null,
            "order": null,
            "overflow": null,
            "overflow_x": null,
            "overflow_y": null,
            "padding": null,
            "right": null,
            "top": null,
            "visibility": null,
            "width": null
          }
        },
        "4c433205720041ebb23f379435814702": {
          "model_module": "@jupyter-widgets/controls",
          "model_name": "ProgressStyleModel",
          "model_module_version": "1.5.0",
          "state": {
            "_model_module": "@jupyter-widgets/controls",
            "_model_module_version": "1.5.0",
            "_model_name": "ProgressStyleModel",
            "_view_count": null,
            "_view_module": "@jupyter-widgets/base",
            "_view_module_version": "1.2.0",
            "_view_name": "StyleView",
            "bar_color": null,
            "description_width": ""
          }
        },
        "1b4e36fe71e143559fca003b39e47b82": {
          "model_module": "@jupyter-widgets/base",
          "model_name": "LayoutModel",
          "model_module_version": "1.2.0",
          "state": {
            "_model_module": "@jupyter-widgets/base",
            "_model_module_version": "1.2.0",
            "_model_name": "LayoutModel",
            "_view_count": null,
            "_view_module": "@jupyter-widgets/base",
            "_view_module_version": "1.2.0",
            "_view_name": "LayoutView",
            "align_content": null,
            "align_items": null,
            "align_self": null,
            "border": null,
            "bottom": null,
            "display": null,
            "flex": null,
            "flex_flow": null,
            "grid_area": null,
            "grid_auto_columns": null,
            "grid_auto_flow": null,
            "grid_auto_rows": null,
            "grid_column": null,
            "grid_gap": null,
            "grid_row": null,
            "grid_template_areas": null,
            "grid_template_columns": null,
            "grid_template_rows": null,
            "height": null,
            "justify_content": null,
            "justify_items": null,
            "left": null,
            "margin": null,
            "max_height": null,
            "max_width": null,
            "min_height": null,
            "min_width": null,
            "object_fit": null,
            "object_position": null,
            "order": null,
            "overflow": null,
            "overflow_x": null,
            "overflow_y": null,
            "padding": null,
            "right": null,
            "top": null,
            "visibility": null,
            "width": null
          }
        },
        "47dd40f2cf40433880ce93fbb5e5edb8": {
          "model_module": "@jupyter-widgets/controls",
          "model_name": "DescriptionStyleModel",
          "model_module_version": "1.5.0",
          "state": {
            "_model_module": "@jupyter-widgets/controls",
            "_model_module_version": "1.5.0",
            "_model_name": "DescriptionStyleModel",
            "_view_count": null,
            "_view_module": "@jupyter-widgets/base",
            "_view_module_version": "1.2.0",
            "_view_name": "StyleView",
            "description_width": ""
          }
        },
        "7479e600da314148a3802fb318a08e6e": {
          "model_module": "@jupyter-widgets/controls",
          "model_name": "HBoxModel",
          "model_module_version": "1.5.0",
          "state": {
            "_dom_classes": [],
            "_model_module": "@jupyter-widgets/controls",
            "_model_module_version": "1.5.0",
            "_model_name": "HBoxModel",
            "_view_count": null,
            "_view_module": "@jupyter-widgets/controls",
            "_view_module_version": "1.5.0",
            "_view_name": "HBoxView",
            "box_style": "",
            "children": [
              "IPY_MODEL_40a3c2f68cc642b68c3e866e29564cba",
              "IPY_MODEL_97914771e7b840759b8e862252b59239",
              "IPY_MODEL_6f6492be91714ae5a8bc26e3a4dcbebf"
            ],
            "layout": "IPY_MODEL_d6ebeb7710264980888c84b46f1d0be1"
          }
        },
        "40a3c2f68cc642b68c3e866e29564cba": {
          "model_module": "@jupyter-widgets/controls",
          "model_name": "HTMLModel",
          "model_module_version": "1.5.0",
          "state": {
            "_dom_classes": [],
            "_model_module": "@jupyter-widgets/controls",
            "_model_module_version": "1.5.0",
            "_model_name": "HTMLModel",
            "_view_count": null,
            "_view_module": "@jupyter-widgets/controls",
            "_view_module_version": "1.5.0",
            "_view_name": "HTMLView",
            "description": "",
            "description_tooltip": null,
            "layout": "IPY_MODEL_573e8cfba1994ec580320dde72581e3c",
            "placeholder": "​",
            "style": "IPY_MODEL_ead19b7baf1f4ca5bb36d43d7e1e875a",
            "value": "Downloading: 100%"
          }
        },
        "97914771e7b840759b8e862252b59239": {
          "model_module": "@jupyter-widgets/controls",
          "model_name": "FloatProgressModel",
          "model_module_version": "1.5.0",
          "state": {
            "_dom_classes": [],
            "_model_module": "@jupyter-widgets/controls",
            "_model_module_version": "1.5.0",
            "_model_name": "FloatProgressModel",
            "_view_count": null,
            "_view_module": "@jupyter-widgets/controls",
            "_view_module_version": "1.5.0",
            "_view_name": "ProgressView",
            "bar_style": "success",
            "description": "",
            "description_tooltip": null,
            "layout": "IPY_MODEL_2e0c78e3f82a4c59a5978fca882f4174",
            "max": 20275516160,
            "min": 0,
            "orientation": "horizontal",
            "style": "IPY_MODEL_d0220d93c08746cfb65473030597395b",
            "value": 20275516160
          }
        },
        "6f6492be91714ae5a8bc26e3a4dcbebf": {
          "model_module": "@jupyter-widgets/controls",
          "model_name": "HTMLModel",
          "model_module_version": "1.5.0",
          "state": {
            "_dom_classes": [],
            "_model_module": "@jupyter-widgets/controls",
            "_model_module_version": "1.5.0",
            "_model_name": "HTMLModel",
            "_view_count": null,
            "_view_module": "@jupyter-widgets/controls",
            "_view_module_version": "1.5.0",
            "_view_name": "HTMLView",
            "description": "",
            "description_tooltip": null,
            "layout": "IPY_MODEL_404dc96ec773482cacd3ebc00aaa57d3",
            "placeholder": "​",
            "style": "IPY_MODEL_bcdb5f1ac4284d31ace43b909b621085",
            "value": " 20.3G/20.3G [06:30&lt;00:00, 43.2MB/s]"
          }
        },
        "d6ebeb7710264980888c84b46f1d0be1": {
          "model_module": "@jupyter-widgets/base",
          "model_name": "LayoutModel",
          "model_module_version": "1.2.0",
          "state": {
            "_model_module": "@jupyter-widgets/base",
            "_model_module_version": "1.2.0",
            "_model_name": "LayoutModel",
            "_view_count": null,
            "_view_module": "@jupyter-widgets/base",
            "_view_module_version": "1.2.0",
            "_view_name": "LayoutView",
            "align_content": null,
            "align_items": null,
            "align_self": null,
            "border": null,
            "bottom": null,
            "display": null,
            "flex": null,
            "flex_flow": null,
            "grid_area": null,
            "grid_auto_columns": null,
            "grid_auto_flow": null,
            "grid_auto_rows": null,
            "grid_column": null,
            "grid_gap": null,
            "grid_row": null,
            "grid_template_areas": null,
            "grid_template_columns": null,
            "grid_template_rows": null,
            "height": null,
            "justify_content": null,
            "justify_items": null,
            "left": null,
            "margin": null,
            "max_height": null,
            "max_width": null,
            "min_height": null,
            "min_width": null,
            "object_fit": null,
            "object_position": null,
            "order": null,
            "overflow": null,
            "overflow_x": null,
            "overflow_y": null,
            "padding": null,
            "right": null,
            "top": null,
            "visibility": null,
            "width": null
          }
        },
        "573e8cfba1994ec580320dde72581e3c": {
          "model_module": "@jupyter-widgets/base",
          "model_name": "LayoutModel",
          "model_module_version": "1.2.0",
          "state": {
            "_model_module": "@jupyter-widgets/base",
            "_model_module_version": "1.2.0",
            "_model_name": "LayoutModel",
            "_view_count": null,
            "_view_module": "@jupyter-widgets/base",
            "_view_module_version": "1.2.0",
            "_view_name": "LayoutView",
            "align_content": null,
            "align_items": null,
            "align_self": null,
            "border": null,
            "bottom": null,
            "display": null,
            "flex": null,
            "flex_flow": null,
            "grid_area": null,
            "grid_auto_columns": null,
            "grid_auto_flow": null,
            "grid_auto_rows": null,
            "grid_column": null,
            "grid_gap": null,
            "grid_row": null,
            "grid_template_areas": null,
            "grid_template_columns": null,
            "grid_template_rows": null,
            "height": null,
            "justify_content": null,
            "justify_items": null,
            "left": null,
            "margin": null,
            "max_height": null,
            "max_width": null,
            "min_height": null,
            "min_width": null,
            "object_fit": null,
            "object_position": null,
            "order": null,
            "overflow": null,
            "overflow_x": null,
            "overflow_y": null,
            "padding": null,
            "right": null,
            "top": null,
            "visibility": null,
            "width": null
          }
        },
        "ead19b7baf1f4ca5bb36d43d7e1e875a": {
          "model_module": "@jupyter-widgets/controls",
          "model_name": "DescriptionStyleModel",
          "model_module_version": "1.5.0",
          "state": {
            "_model_module": "@jupyter-widgets/controls",
            "_model_module_version": "1.5.0",
            "_model_name": "DescriptionStyleModel",
            "_view_count": null,
            "_view_module": "@jupyter-widgets/base",
            "_view_module_version": "1.2.0",
            "_view_name": "StyleView",
            "description_width": ""
          }
        },
        "2e0c78e3f82a4c59a5978fca882f4174": {
          "model_module": "@jupyter-widgets/base",
          "model_name": "LayoutModel",
          "model_module_version": "1.2.0",
          "state": {
            "_model_module": "@jupyter-widgets/base",
            "_model_module_version": "1.2.0",
            "_model_name": "LayoutModel",
            "_view_count": null,
            "_view_module": "@jupyter-widgets/base",
            "_view_module_version": "1.2.0",
            "_view_name": "LayoutView",
            "align_content": null,
            "align_items": null,
            "align_self": null,
            "border": null,
            "bottom": null,
            "display": null,
            "flex": null,
            "flex_flow": null,
            "grid_area": null,
            "grid_auto_columns": null,
            "grid_auto_flow": null,
            "grid_auto_rows": null,
            "grid_column": null,
            "grid_gap": null,
            "grid_row": null,
            "grid_template_areas": null,
            "grid_template_columns": null,
            "grid_template_rows": null,
            "height": null,
            "justify_content": null,
            "justify_items": null,
            "left": null,
            "margin": null,
            "max_height": null,
            "max_width": null,
            "min_height": null,
            "min_width": null,
            "object_fit": null,
            "object_position": null,
            "order": null,
            "overflow": null,
            "overflow_x": null,
            "overflow_y": null,
            "padding": null,
            "right": null,
            "top": null,
            "visibility": null,
            "width": null
          }
        },
        "d0220d93c08746cfb65473030597395b": {
          "model_module": "@jupyter-widgets/controls",
          "model_name": "ProgressStyleModel",
          "model_module_version": "1.5.0",
          "state": {
            "_model_module": "@jupyter-widgets/controls",
            "_model_module_version": "1.5.0",
            "_model_name": "ProgressStyleModel",
            "_view_count": null,
            "_view_module": "@jupyter-widgets/base",
            "_view_module_version": "1.2.0",
            "_view_name": "StyleView",
            "bar_color": null,
            "description_width": ""
          }
        },
        "404dc96ec773482cacd3ebc00aaa57d3": {
          "model_module": "@jupyter-widgets/base",
          "model_name": "LayoutModel",
          "model_module_version": "1.2.0",
          "state": {
            "_model_module": "@jupyter-widgets/base",
            "_model_module_version": "1.2.0",
            "_model_name": "LayoutModel",
            "_view_count": null,
            "_view_module": "@jupyter-widgets/base",
            "_view_module_version": "1.2.0",
            "_view_name": "LayoutView",
            "align_content": null,
            "align_items": null,
            "align_self": null,
            "border": null,
            "bottom": null,
            "display": null,
            "flex": null,
            "flex_flow": null,
            "grid_area": null,
            "grid_auto_columns": null,
            "grid_auto_flow": null,
            "grid_auto_rows": null,
            "grid_column": null,
            "grid_gap": null,
            "grid_row": null,
            "grid_template_areas": null,
            "grid_template_columns": null,
            "grid_template_rows": null,
            "height": null,
            "justify_content": null,
            "justify_items": null,
            "left": null,
            "margin": null,
            "max_height": null,
            "max_width": null,
            "min_height": null,
            "min_width": null,
            "object_fit": null,
            "object_position": null,
            "order": null,
            "overflow": null,
            "overflow_x": null,
            "overflow_y": null,
            "padding": null,
            "right": null,
            "top": null,
            "visibility": null,
            "width": null
          }
        },
        "bcdb5f1ac4284d31ace43b909b621085": {
          "model_module": "@jupyter-widgets/controls",
          "model_name": "DescriptionStyleModel",
          "model_module_version": "1.5.0",
          "state": {
            "_model_module": "@jupyter-widgets/controls",
            "_model_module_version": "1.5.0",
            "_model_name": "DescriptionStyleModel",
            "_view_count": null,
            "_view_module": "@jupyter-widgets/base",
            "_view_module_version": "1.2.0",
            "_view_name": "StyleView",
            "description_width": ""
          }
        }
      }
    }
  },
  "nbformat": 4,
  "nbformat_minor": 0
}